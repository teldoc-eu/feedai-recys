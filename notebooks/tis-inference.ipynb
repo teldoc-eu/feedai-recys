{
 "cells": [
  {
   "cell_type": "markdown",
   "source": [
    "## Wysyłanie żądania do Triton Inference Server w celu otrzymania rekomendacji\n"
   ],
   "metadata": {
    "collapsed": false
   }
  },
  {
   "cell_type": "markdown",
   "source": [
    "1. Należy uruchomić kontener `feedai-recsys-inference` w oparciu o definicję obrazu znajdującą się w pliku `docker\\python_env\\Dockerfile` za pomocą poleceń:\n",
    "\n",
    "```shell\n",
    "cd docker/python_env/\n",
    "docker build -t feedai/merlin-tensorflow-inference:22.05 .\n",
    "```\n",
    "```shell\n",
    "docker run -it --name feedai-recsys-inference --gpus all -p 8000:8000 -p 8001:8001 -p 8002:8002 -p 8888:8888 -v <path_to>/Building-and-deploying-multi-stage-RecSys:/Merlin/examples/Building-and-deploying-multi-stage-RecSys --ipc=host feedai/merlin-tensorflow-inference:22.05 /bin/bash\n",
    "```\n",
    "\n",
    "2. W uruchomionym kontenerze Należy uruchomić proces serwera JupyterLab oraz Triton Inference Server\n",
    "\n",
    "```shell\n",
    "jupyter-lab --allow-root --ip='0.0.0.0' --NotebookApp.token='lolo'\n",
    "tritonserver --model-repository=/Merlin/examples/Building-and-deploying-multi-stage-RecSys/poc_ensemble/ --backend-config=tensorflow,version=2\n",
    "```\n",
    "\n",
    "3. Należy uruchomić bieżący notatnik na uruchomionym w kontenerze serwerze JupyterLab dostępnym pod `http://127.0.0.1`"
   ],
   "metadata": {
    "collapsed": false
   }
  },
  {
   "cell_type": "markdown",
   "source": [
    "##### Ustalenie schemy żądania do serwera oraz odpowiedzi"
   ],
   "metadata": {
    "collapsed": false
   }
  },
  {
   "cell_type": "code",
   "execution_count": 1,
   "outputs": [],
   "source": [
    "import numpy as np\n",
    "from merlin.systems.triton.utils import send_triton_request\n",
    "from merlin.core.dispatch import make_df\n",
    "\n",
    "# create a request to be sent to TIS\n",
    "request = make_df({\"user_id\": [1]})\n",
    "request[\"user_id\"] = request[\"user_id\"].astype(np.int32)\n",
    "\n",
    "# outputs = ensemble.graph.output_schema.column_names\n",
    "outputs = ['ordered_ids']"
   ],
   "metadata": {
    "collapsed": false
   }
  },
  {
   "cell_type": "code",
   "execution_count": 2,
   "outputs": [
    {
     "data": {
      "text/plain": "   user_id\n0        1",
      "text/html": "<div>\n<style scoped>\n    .dataframe tbody tr th:only-of-type {\n        vertical-align: middle;\n    }\n\n    .dataframe tbody tr th {\n        vertical-align: top;\n    }\n\n    .dataframe thead th {\n        text-align: right;\n    }\n</style>\n<table border=\"1\" class=\"dataframe\">\n  <thead>\n    <tr style=\"text-align: right;\">\n      <th></th>\n      <th>user_id</th>\n    </tr>\n  </thead>\n  <tbody>\n    <tr>\n      <th>0</th>\n      <td>1</td>\n    </tr>\n  </tbody>\n</table>\n</div>"
     },
     "execution_count": 2,
     "metadata": {},
     "output_type": "execute_result"
    }
   ],
   "source": [
    "request"
   ],
   "metadata": {
    "collapsed": false
   }
  },
  {
   "cell_type": "markdown",
   "source": [
    "##### Wysłanie żądania do serwea, w odpowiedzi orzymujemy id rekomendowanych produktów"
   ],
   "metadata": {
    "collapsed": false
   }
  },
  {
   "cell_type": "code",
   "execution_count": 3,
   "outputs": [
    {
     "data": {
      "text/plain": "{'ordered_ids': array([[1189684],\n        [1290349],\n        [1908677],\n        [ 955000],\n        [2209519],\n        [1240268],\n        [1348758],\n        [1034567],\n        [1928709],\n        [2816367]], dtype=int32)}"
     },
     "execution_count": 3,
     "metadata": {},
     "output_type": "execute_result"
    }
   ],
   "source": [
    "response = send_triton_request(request, outputs, endpoint=\"127.0.0.1:8001\")\n",
    "response"
   ],
   "metadata": {
    "collapsed": false
   }
  }
 ],
 "metadata": {
  "kernelspec": {
   "display_name": "Python 3",
   "language": "python",
   "name": "python3"
  },
  "language_info": {
   "codemirror_mode": {
    "name": "ipython",
    "version": 2
   },
   "file_extension": ".py",
   "mimetype": "text/x-python",
   "name": "python",
   "nbconvert_exporter": "python",
   "pygments_lexer": "ipython2",
   "version": "2.7.6"
  }
 },
 "nbformat": 4,
 "nbformat_minor": 0
}
