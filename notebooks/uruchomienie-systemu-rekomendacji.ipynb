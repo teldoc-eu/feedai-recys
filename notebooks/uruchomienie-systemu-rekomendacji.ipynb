{
 "cells": [
  {
   "cell_type": "markdown",
   "id": "03166488-1651-4025-84ed-4e9e5db34933",
   "metadata": {},
   "source": [
    "## Uruchomienie wieloetapowego systemu rekomendacji na Triton Inference Server\n",
    "\n",
    "Na podstawie zapytania zawierającego jedynie identyfikator uzytkownika nastąpi rekomendacja id produktó."
   ]
  },
  {
   "cell_type": "markdown",
   "id": "538677a3-acc6-48f6-acb6-d5bb5fe2e2d2",
   "metadata": {},
   "source": [
    "### Import bibliotek i funkcji"
   ]
  },
  {
   "cell_type": "code",
   "execution_count": 2,
   "id": "4db1b5f1-c8fa-4e03-8744-1197873c5bee",
   "metadata": {},
   "outputs": [
    {
     "name": "stderr",
     "output_type": "stream",
     "text": [
      "/usr/local/lib/python3.8/dist-packages/faiss/loader.py:28: DeprecationWarning: distutils Version classes are deprecated. Use packaging.version instead.\n",
      "  if LooseVersion(numpy.__version__) >= \"1.19\":\n",
      "/usr/local/lib/python3.8/dist-packages/setuptools/_distutils/version.py:351: DeprecationWarning: distutils Version classes are deprecated. Use packaging.version instead.\n",
      "  other = LooseVersion(other)\n",
      "11/22/2022 07:34:21 PM INFO:Loading faiss with AVX2 support.\n",
      "11/22/2022 07:34:21 PM INFO:Could not load library with AVX2 support due to:\n",
      "ModuleNotFoundError(\"No module named 'faiss.swigfaiss_avx2'\")\n",
      "11/22/2022 07:34:21 PM INFO:Loading faiss.\n",
      "11/22/2022 07:34:21 PM INFO:Successfully loaded faiss.\n",
      "/usr/local/lib/python3.8/dist-packages/flatbuffers/compat.py:19: DeprecationWarning: the imp module is deprecated in favour of importlib; see the module's documentation for alternative uses\n",
      "  import imp\n"
     ]
    }
   ],
   "source": [
    "import os\n",
    "import numpy as np\n",
    "import pandas as pd\n",
    "import feast\n",
    "import faiss\n",
    "import seedir as sd\n",
    "from nvtabular import ColumnSchema, Schema\n",
    "\n",
    "from merlin.systems.dag.ensemble import Ensemble\n",
    "from merlin.systems.dag.ops.session_filter import FilterCandidates\n",
    "from merlin.systems.dag.ops.softmax_sampling import SoftmaxSampling\n",
    "from merlin.systems.dag.ops.tensorflow import PredictTensorflow\n",
    "from merlin.systems.dag.ops.unroll_features import UnrollFeatures\n",
    "from merlin.systems.triton.utils import run_triton_server, run_ensemble_on_tritonserver"
   ]
  },
  {
   "cell_type": "markdown",
   "id": "55ead20e-c573-462e-9aa2-c3494bf0129f",
   "metadata": {},
   "source": [
    "### Umieszczenie atrybutów w repozytorium atrybutw"
   ]
  },
  {
   "cell_type": "markdown",
   "id": "e2ac115e-4794-4a69-a962-8481f6e86df3",
   "metadata": {},
   "source": [
    "Repozytorium atrybutów [Feast](https://docs.feast.dev/getting-started/architecture-and-components/registry) przechowuje wszelkie atrybuty produktów oraz użytkowników na potrzeby wytwarzania (treningu) modeli jak i ich produkcyjnego wykorzystania (inferencji). Atrybuty użytkowników oraz produktów zostały programistycznie opisane w plikach `user_features.py` oraz  `item_features.py` files. Za pomocą klasy FeatureView() można umieścić dane z wielu źródeł danych w Feast i wykorzystać je do treningu lub inferencji. W plikach `user_features.py` oraz `item_features.py` znajdują się informacje gdzie Feast ma sięgać po atrybuty uzytkowników i produktów.\n",
    "\n",
    "Instrukcja `feast apply` wykonana poniżej na podstawie wspomnianych plików tworzy lokalną bazę danych SQLite `online_store.db` zawierającą wszelkie atrybuty (tzw. repozytorium offline)."
   ]
  },
  {
   "cell_type": "code",
   "execution_count": 5,
   "id": "66c02d67-df45-4869-8262-647cba77efcb",
   "metadata": {},
   "outputs": [],
   "source": [
    "BASE_DIR = os.environ.get(\"BASE_DIR\", \"/Merlin/examples/Building-and-deploying-multi-stage-RecSys/\")\n",
    "\n",
    "# define feature repo path\n",
    "feast_repo_path = BASE_DIR + \"feature_repo/\""
   ]
  },
  {
   "cell_type": "code",
   "execution_count": 3,
   "id": "e5fa545b-a979-4216-b176-ffd70d66e69d",
   "metadata": {},
   "outputs": [
    {
     "name": "stdout",
     "output_type": "stream",
     "text": [
      "/Merlin/examples/Building-and-deploying-multi-stage-RecSys/feature_repo\n",
      "/usr/local/lib/python3.8/dist-packages/cupy/_environment.py:439: UserWarning: \n",
      "--------------------------------------------------------------------------------\n",
      "\n",
      "  CuPy may not function correctly because multiple CuPy packages are installed\n",
      "  in your environment:\n",
      "\n",
      "    cupy-cuda116, cupy-cuda11x\n",
      "\n",
      "  Follow these steps to resolve this issue:\n",
      "\n",
      "    1. For all packages listed above, run the following command to remove all\n",
      "       existing CuPy installations:\n",
      "\n",
      "         $ pip uninstall <package_name>\n",
      "\n",
      "      If you previously installed CuPy via conda, also run the following:\n",
      "\n",
      "         $ conda uninstall cupy\n",
      "\n",
      "    2. Install the appropriate CuPy package.\n",
      "       Refer to the Installation Guide for detailed instructions.\n",
      "\n",
      "         https://docs.cupy.dev/en/stable/install.html\n",
      "\n",
      "--------------------------------------------------------------------------------\n",
      "\n",
      "  warnings.warn(f'''\n",
      "/usr/local/lib/python3.8/dist-packages/feast/feature_view.py:100: DeprecationWarning: The argument 'input' is being deprecated. Please use 'batch_source' instead. Feast 0.13 and onwards will not support the argument 'input'.\n",
      "  warnings.warn(\n",
      "Created entity \u001B[1m\u001B[32muser_id\u001B[0m\n",
      "Created entity \u001B[1m\u001B[32mitem_id\u001B[0m\n",
      "Created feature view \u001B[1m\u001B[32mitem_features\u001B[0m\n",
      "Created feature view \u001B[1m\u001B[32muser_features\u001B[0m\n",
      "\n",
      "Created sqlite table \u001B[1m\u001B[32mfeature_repo_item_features\u001B[0m\n",
      "Created sqlite table \u001B[1m\u001B[32mfeature_repo_user_features\u001B[0m\n",
      "\n"
     ]
    }
   ],
   "source": [
    "%cd $feast_repo_path\n",
    "!feast apply"
   ]
  },
  {
   "cell_type": "markdown",
   "id": "c641fcd2-bd11-4569-80d4-2ae5e01a5cad",
   "metadata": {},
   "source": [
    "### Ładowanie atrybutów do repozytorium online\n",
    "\n",
    "Po wykonaniu instrukcji `apply` należy przeprowadzić tzw. operację [materializacji](https://docs.feast.dev/how-to-guides/running-feast-in-production) w wyniku której otrzymmay repozytorium atrybutów online (szybkiego dostępu). Szybki dostęp do tych danych jest niezbędny dla dostarczania rekomendacji z niskim opóźnieniem.\n"
   ]
  },
  {
   "cell_type": "code",
   "execution_count": 4,
   "id": "52dacbbc-bdb6-4f7a-b202-3802050f0362",
   "metadata": {},
   "outputs": [
    {
     "name": "stdout",
     "output_type": "stream",
     "text": [
      "/usr/local/lib/python3.8/dist-packages/cupy/_environment.py:439: UserWarning: \n",
      "--------------------------------------------------------------------------------\n",
      "\n",
      "  CuPy may not function correctly because multiple CuPy packages are installed\n",
      "  in your environment:\n",
      "\n",
      "    cupy-cuda116, cupy-cuda11x\n",
      "\n",
      "  Follow these steps to resolve this issue:\n",
      "\n",
      "    1. For all packages listed above, run the following command to remove all\n",
      "       existing CuPy installations:\n",
      "\n",
      "         $ pip uninstall <package_name>\n",
      "\n",
      "      If you previously installed CuPy via conda, also run the following:\n",
      "\n",
      "         $ conda uninstall cupy\n",
      "\n",
      "    2. Install the appropriate CuPy package.\n",
      "       Refer to the Installation Guide for detailed instructions.\n",
      "\n",
      "         https://docs.cupy.dev/en/stable/install.html\n",
      "\n",
      "--------------------------------------------------------------------------------\n",
      "\n",
      "  warnings.warn(f'''\n",
      "Materializing \u001B[1m\u001B[32m2\u001B[0m feature views from \u001B[1m\u001B[32m1995-01-01 01:01:01+00:00\u001B[0m to \u001B[1m\u001B[32m2025-01-01 01:01:01+00:00\u001B[0m into the \u001B[1m\u001B[32msqlite\u001B[0m online store.\n",
      "\n",
      "\u001B[1m\u001B[32mitem_features\u001B[0m:\n",
      "100%|███████████████████████████████████████████████████| 3168666/3168666 [11:51<00:00, 4451.34it/s]\n",
      "\u001B[1m\u001B[32muser_features\u001B[0m:\n",
      "100%|█████████████████████████████████████████████████████| 294883/294883 [02:12<00:00, 2227.89it/s]\n"
     ]
    }
   ],
   "source": [
    "!feast materialize 1995-01-01T01:01:01 2025-01-01T01:01:01"
   ]
  },
  {
   "cell_type": "markdown",
   "id": "8fcc26e6-f6f3-4e44-bf3c-3b8e66dc9fd6",
   "metadata": {},
   "source": [
    "Otrzymana struktura katalogu feature_repo po instrukcjach `apply` oraz `materialize`."
   ]
  },
  {
   "cell_type": "code",
   "execution_count": 5,
   "id": "9caba4e3-e6e0-4e2f-b51d-cd3456fd4a63",
   "metadata": {},
   "outputs": [
    {
     "name": "stdout",
     "output_type": "stream",
     "text": [
      "feature_repo/\n",
      "├─__init__.py\n",
      "├─data/\n",
      "│ ├─item_features.parquet\n",
      "│ ├─online_store.db\n",
      "│ ├─registry.db\n",
      "│ └─user_features.parquet\n",
      "├─feature_store.yaml\n",
      "├─item_features.py\n",
      "└─user_features.py\n"
     ]
    }
   ],
   "source": [
    "# set up the base dir to for feature store\n",
    "feature_repo_path = os.path.join(BASE_DIR, 'feature_repo')\n",
    "sd.seedir(feature_repo_path, style='lines', itemlimit=10, depthlimit=5, exclude_folders=['.ipynb_checkpoints', '__pycache__'], sort=True)"
   ]
  },
  {
   "cell_type": "markdown",
   "id": "e768637c-0a4d-404b-8b58-7182fef0ab0e",
   "metadata": {},
   "source": [
    "### Przeliczenie indeksu Faiss index, klient repozytorium atrybutów"
   ]
  },
  {
   "cell_type": "markdown",
   "id": "efada1e1-2556-4a26-b0ba-9cb96b3b151f",
   "metadata": {},
   "source": [
    "Faiss jest silnikiem pozwalającym na znalezienie \"bliskich\" wektorów reprezentacji prduktów za pomocą algorytmu ANN, do działania potrzebuje utwaorzyć wewnętrzne indeksy:"
   ]
  },
  {
   "cell_type": "code",
   "execution_count": 6,
   "id": "96b7adc1-623b-41df-b1f9-dd4086a15bc9",
   "metadata": {},
   "outputs": [],
   "source": [
    "if not os.path.isdir(os.path.join(BASE_DIR + 'faiss_index')):\n",
    "    os.makedirs(os.path.join(BASE_DIR + 'faiss_index'))"
   ]
  },
  {
   "cell_type": "markdown",
   "id": "2aa037c0-7dad-427c-98bb-3da413e8fd14",
   "metadata": {},
   "source": [
    "Ustawianie ścieżek dla modeli oraz indeksu Faiss:"
   ]
  },
  {
   "cell_type": "code",
   "execution_count": 6,
   "id": "23ba59b5-08c3-44b5-86f2-e63dec6893af",
   "metadata": {},
   "outputs": [],
   "source": [
    "faiss_index_path = BASE_DIR + 'faiss_index' + \"/index.faiss\"\n",
    "retrieval_model_path = BASE_DIR + \"query_tower/\"\n",
    "ranking_model_path = BASE_DIR + \"dlrm/\""
   ]
  },
  {
   "cell_type": "markdown",
   "id": "8b530f15-81c9-4c81-8962-c86ee0247245",
   "metadata": {},
   "source": [
    "Schema żądania dla Triton Infrence Server (TIS) - czyli w jakim formacie przekazać żądanie do serwera o rekomendację dla konkretnego użytkownika opisanego identyfikatorem user_id."
   ]
  },
  {
   "cell_type": "code",
   "execution_count": 7,
   "id": "6cdda540-8209-49f9-8b6a-4b330570fdd3",
   "metadata": {},
   "outputs": [],
   "source": [
    "request_schema = Schema(\n",
    "    [\n",
    "        ColumnSchema(\"user_id\", dtype=np.int32),\n",
    "    ]\n",
    ")"
   ]
  },
  {
   "cell_type": "markdown",
   "id": "8b996019-bd2a-44e0-b004-4f412b300d63",
   "metadata": {},
   "source": [
    "Operator `QueryFaiss` tworzy interfejs pomiędzy FAISS Approximate Nearest Neighbors (ANN) Index i Triton Infrence Server. Dla wejściowego wektora reprezentacji produktu, za pomocą algorytmu ANN znajdowane są k-najbliższe wektory z indeksu.\n",
    "\n",
    "`setup_faiss` tworzy indeks Faiss na podstawie odległości pomiędzy wektorami reprezentacji (L2)."
   ]
  },
  {
   "cell_type": "code",
   "execution_count": 9,
   "id": "0b6cc5bf-d07c-4963-a748-6e2b4827ee36",
   "metadata": {},
   "outputs": [],
   "source": [
    "from merlin.systems.dag.ops.faiss import QueryFaiss, setup_faiss \n",
    "\n",
    "item_embeddings = np.ascontiguousarray(\n",
    "    pd.read_parquet(BASE_DIR + \"item_embeddings.parquet\").to_numpy()\n",
    ")\n",
    "setup_faiss(item_embeddings, faiss_index_path)"
   ]
  },
  {
   "cell_type": "markdown",
   "id": "46697177-512a-473e-8cca-9fe51d3daa03",
   "metadata": {},
   "source": [
    "Utworzenie klenta repozytorium atrybutów"
   ]
  },
  {
   "cell_type": "code",
   "execution_count": 8,
   "id": "3bc00e04-c70c-4882-9952-66f4dbb97bdc",
   "metadata": {},
   "outputs": [],
   "source": [
    "feature_store = feast.FeatureStore(feast_repo_path)"
   ]
  },
  {
   "cell_type": "markdown",
   "id": "5c45df06-0cbe-4b52-ac1f-786e763895d7",
   "metadata": {},
   "source": [
    "Pobieranie atrybutów użytkownika z repozytorium za pomocą operatora `QueryFeast`."
   ]
  },
  {
   "cell_type": "code",
   "execution_count": 9,
   "id": "3decbe7b-03e3-4978-baac-03f6a0b078c9",
   "metadata": {},
   "outputs": [
    {
     "name": "stderr",
     "output_type": "stream",
     "text": [
      "/usr/local/lib/python3.8/dist-packages/merlin/systems/dag/ops/feast.py:15: DeprecationWarning: `np.float` is a deprecated alias for the builtin `float`. To silence this warning, use `float` by itself. Doing this will not modify any behavior and is safe. If you specifically wanted the numpy scalar type, use `np.float64` here.\n",
      "Deprecated in NumPy 1.20; for more details and guidance: https://numpy.org/devdocs/release/1.20.0-notes.html#deprecations\n",
      "  ValueType.FLOAT: (np.float, False, False),\n"
     ]
    }
   ],
   "source": [
    "from merlin.systems.dag.ops.feast import QueryFeast \n",
    "\n",
    "user_features = [\"user_id\"] >> QueryFeast.from_feature_view(\n",
    "    store=feature_store,\n",
    "    view=\"user_features\",\n",
    "    column=\"user_id\",\n",
    "    include_id=True,\n",
    ")"
   ]
  },
  {
   "cell_type": "markdown",
   "id": "27e25be7-3ff0-49c2-a3fc-03ec4d615e77",
   "metadata": {},
   "source": [
    "Pobieranie kandydatów do rekomendacji za pomocą `retrieval model` dla konkretnego uzytkownika. Operator `PredictTensorflow()` przeszktałca model głębokiej sieci neuronowej stworzony w Tensorflow do formatu odpowiedniego dla TIS."
   ]
  },
  {
   "cell_type": "code",
   "execution_count": 10,
   "id": "21139caa-3a51-42e6-b006-21a92c95f1bc",
   "metadata": {},
   "outputs": [
    {
     "name": "stderr",
     "output_type": "stream",
     "text": [
      "2022-11-22 19:36:54.067392: I tensorflow/stream_executor/cuda/cuda_gpu_executor.cc:975] successful NUMA node read from SysFS had negative value (-1), but there must be at least one NUMA node, so returning NUMA node zero\n",
      "2022-11-22 19:36:54.067825: I tensorflow/stream_executor/cuda/cuda_gpu_executor.cc:975] successful NUMA node read from SysFS had negative value (-1), but there must be at least one NUMA node, so returning NUMA node zero\n",
      "2022-11-22 19:36:54.100054: I tensorflow/stream_executor/cuda/cuda_gpu_executor.cc:975] successful NUMA node read from SysFS had negative value (-1), but there must be at least one NUMA node, so returning NUMA node zero\n",
      "2022-11-22 19:36:54.100298: I tensorflow/stream_executor/cuda/cuda_gpu_executor.cc:975] successful NUMA node read from SysFS had negative value (-1), but there must be at least one NUMA node, so returning NUMA node zero\n",
      "2022-11-22 19:36:54.100473: I tensorflow/stream_executor/cuda/cuda_gpu_executor.cc:975] successful NUMA node read from SysFS had negative value (-1), but there must be at least one NUMA node, so returning NUMA node zero\n",
      "2022-11-22 19:36:54.100643: I tensorflow/stream_executor/cuda/cuda_gpu_executor.cc:975] successful NUMA node read from SysFS had negative value (-1), but there must be at least one NUMA node, so returning NUMA node zero\n"
     ]
    },
    {
     "data": {
      "text/plain": [
       "<function tensorflow.python.dlpack.dlpack.from_dlpack(dlcapsule)>"
      ]
     },
     "execution_count": 10,
     "metadata": {},
     "output_type": "execute_result"
    }
   ],
   "source": [
    "# konfiguracja Tensorflow tak aby nie alokował całej dostępnej pamięci GPu\n",
    "from merlin.models.loader.tf_utils import configure_tensorflow\n",
    "\n",
    "configure_tensorflow()"
   ]
  },
  {
   "cell_type": "code",
   "execution_count": 12,
   "id": "47c2d9b1-51dc-4549-977d-d7941ee6486c",
   "metadata": {},
   "outputs": [
    {
     "name": "stderr",
     "output_type": "stream",
     "text": [
      "2022-11-22 19:37:40.373395: W tensorflow/core/framework/cpu_allocator_impl.cc:82] Allocation of 1077347120 exceeds 10% of free system memory.\n",
      "11/22/2022 07:37:40 PM WARNING:No training configuration found in save file, so the model was *not* compiled. Compile it manually.\n"
     ]
    }
   ],
   "source": [
    "from merlin.systems.dag.ops.faiss import QueryFaiss\n",
    "\n",
    "topk_retrieval = 100\n",
    "retrieval = (\n",
    "    user_features\n",
    "    >> PredictTensorflow(retrieval_model_path)\n",
    "    >> QueryFaiss(faiss_index_path, topk=topk_retrieval)\n",
    ")"
   ]
  },
  {
   "cell_type": "markdown",
   "id": "8ce4429c-1fe1-4304-bcdf-badebe3b5485",
   "metadata": {},
   "source": [
    "Pobieranie atrybutów dla kandydatów do rekomendacji z etapu retrieval z repozytorium atrybutów."
   ]
  },
  {
   "cell_type": "code",
   "execution_count": 13,
   "id": "b270f663-0ae1-4356-acd4-5f8c986abf4d",
   "metadata": {},
   "outputs": [],
   "source": [
    "item_features = retrieval[\"candidate_ids\"] >> QueryFeast.from_feature_view(\n",
    "    store=feature_store,\n",
    "    view=\"item_features\",\n",
    "    column=\"candidate_ids\",\n",
    "    output_prefix=\"item\",\n",
    "    include_id=True,\n",
    ")"
   ]
  },
  {
   "cell_type": "markdown",
   "id": "304a4d09-db05-4666-b520-75dbbbc7ab17",
   "metadata": {},
   "source": [
    "Merge atrybutów użytkownika i produktu na potrzeby etapu scoringu za pomocą operatora `UnrollFeatures`."
   ]
  },
  {
   "cell_type": "code",
   "execution_count": 14,
   "id": "eb0ef434-03a5-4a36-afb9-e19a43243c64",
   "metadata": {},
   "outputs": [],
   "source": [
    "user_features_to_unroll = [\n",
    "    \"user_id\",\n",
    "    \"user_shops\",\n",
    "    \"user_profile\",\n",
    "    \"user_group\",\n",
    "    \"user_gender\",\n",
    "    \"user_age\",\n",
    "    \"user_consumption_2\",\n",
    "    \"user_is_occupied\",\n",
    "    \"user_geography\",\n",
    "    \"user_intentions\",\n",
    "    \"user_brands\",\n",
    "    \"user_categories\",\n",
    "]\n",
    "\n",
    "combined_features = item_features >> UnrollFeatures(\n",
    "    \"item_id\", user_features[user_features_to_unroll]\n",
    ")"
   ]
  },
  {
   "cell_type": "markdown",
   "id": "7fb0ce66-6b6c-43be-885e-a5435c3bbd9e",
   "metadata": {},
   "source": [
    "Scoring na podstawie wszystkich atrybutów  za pomocą modelu DLRM (ranking)."
   ]
  },
  {
   "cell_type": "code",
   "execution_count": 15,
   "id": "ce31723e-af4d-4827-bb60-3a9fafcd9da6",
   "metadata": {},
   "outputs": [
    {
     "name": "stderr",
     "output_type": "stream",
     "text": [
      "2022-11-22 19:37:52.237459: W tensorflow/core/framework/cpu_allocator_impl.cc:82] Allocation of 811179008 exceeds 10% of free system memory.\n",
      "2022-11-22 19:37:52.237716: W tensorflow/core/framework/cpu_allocator_impl.cc:82] Allocation of 811179008 exceeds 10% of free system memory.\n",
      "2022-11-22 19:37:52.284843: W tensorflow/core/framework/cpu_allocator_impl.cc:82] Allocation of 811179008 exceeds 10% of free system memory.\n"
     ]
    }
   ],
   "source": [
    "ranking = combined_features >> PredictTensorflow(ranking_model_path)"
   ]
  },
  {
   "cell_type": "markdown",
   "id": "7f86fa47-de61-4007-ab55-9076e12ce963",
   "metadata": {},
   "source": [
    "Otrzymanie top 10 rekomendacji za pomocą operatora `SoftmaxSampling()`, to przykład aplikacji logiki biznesowej etapu ordering."
   ]
  },
  {
   "cell_type": "code",
   "execution_count": 16,
   "id": "7f65598b-e3e7-4238-a73e-19d00c3deb26",
   "metadata": {},
   "outputs": [],
   "source": [
    "top_k=10\n",
    "ordering = combined_features[\"item_id\"] >> SoftmaxSampling(\n",
    "    relevance_col=ranking[\"output_1\"], topk=top_k, temperature=20.0\n",
    ")"
   ]
  },
  {
   "cell_type": "markdown",
   "id": "f4e2e389-d884-44a1-8e32-4916a0eb43cf",
   "metadata": {},
   "source": [
    "### Eksport zespołu rekomendacji (Ensemble)\n"
   ]
  },
  {
   "cell_type": "code",
   "execution_count": 18,
   "id": "b28c452f-543c-45a4-9995-130ca6919669",
   "metadata": {},
   "outputs": [],
   "source": [
    "if not os.path.isdir(os.path.join(BASE_DIR + 'poc_ensemble')):\n",
    "    os.makedirs(os.path.join(BASE_DIR + 'poc_ensemble'))"
   ]
  },
  {
   "cell_type": "code",
   "execution_count": 17,
   "id": "6c64d686-aed5-42f8-b517-482b4237c69f",
   "metadata": {},
   "outputs": [],
   "source": [
    "# define the path where all the models and config files exported to\n",
    "export_path = os.path.join(BASE_DIR + 'poc_ensemble')\n",
    "\n",
    "ensemble = Ensemble(ordering, request_schema)"
   ]
  },
  {
   "cell_type": "code",
   "execution_count": null,
   "id": "a6271db0-ba92-4f98-b68b-c33d46624d43",
   "metadata": {},
   "outputs": [],
   "source": [
    "ens_config, node_configs = ensemble.export(export_path)"
   ]
  },
  {
   "cell_type": "markdown",
   "id": "276eedd8-5dc0-4ad0-8725-c8da60fea693",
   "metadata": {},
   "source": [
    "Struktura katalogu zespołu rek."
   ]
  },
  {
   "cell_type": "code",
   "execution_count": 20,
   "id": "89182219-40a6-458c-af0e-7a8e83f364aa",
   "metadata": {},
   "outputs": [
    {
     "name": "stdout",
     "output_type": "stream",
     "text": [
      "poc_ensemble/\n",
      "├─0_queryfeast/\n",
      "│ ├─1/\n",
      "│ │ └─model.py\n",
      "│ └─config.pbtxt\n",
      "├─1_predicttensorflow/\n",
      "│ ├─1/\n",
      "│ │ └─model.savedmodel/\n",
      "│ │   ├─assets/\n",
      "│ │   ├─keras_metadata.pb\n",
      "│ │   ├─saved_model.pb\n",
      "│ │   └─variables/\n",
      "│ │     ├─variables.data-00000-of-00001\n",
      "│ │     └─variables.index\n",
      "│ └─config.pbtxt\n",
      "├─2_queryfaiss/\n",
      "│ ├─1/\n",
      "│ │ ├─index.faiss/\n",
      "│ │ │ └─index.faiss\n",
      "│ │ └─model.py\n",
      "│ └─config.pbtxt\n",
      "├─3_queryfeast/\n",
      "│ ├─1/\n",
      "│ │ └─model.py\n",
      "│ └─config.pbtxt\n",
      "├─4_unrollfeatures/\n",
      "│ ├─1/\n",
      "│ │ └─model.py\n",
      "│ └─config.pbtxt\n",
      "├─5_predicttensorflow/\n",
      "│ ├─1/\n",
      "│ │ └─model.savedmodel/\n",
      "│ │   ├─assets/\n",
      "│ │   ├─keras_metadata.pb\n",
      "│ │   ├─saved_model.pb\n",
      "│ │   └─variables/\n",
      "│ │     ├─variables.data-00000-of-00001\n",
      "│ │     └─variables.index\n",
      "│ └─config.pbtxt\n",
      "├─6_softmaxsampling/\n",
      "│ ├─1/\n",
      "│ │ └─model.py\n",
      "│ └─config.pbtxt\n",
      "└─ensemble_model/\n",
      "  ├─1/\n",
      "  └─config.pbtxt\n"
     ]
    }
   ],
   "source": [
    "sd.seedir(export_path, style='lines', itemlimit=10, depthlimit=5, exclude_folders=['.ipynb_checkpoints', '__pycache__'], sort=True)"
   ]
  },
  {
   "cell_type": "code",
   "execution_count": 21,
   "id": "fa438090-39cb-495a-97aa-9478fef757c9",
   "metadata": {},
   "outputs": [
    {
     "data": {
      "text/plain": [
       "'/Merlin/examples/Building-and-deploying-multi-stage-RecSys/poc_ensemble'"
      ]
     },
     "execution_count": 21,
     "metadata": {},
     "output_type": "execute_result"
    }
   ],
   "source": [
    "export_path"
   ]
  },
  {
   "cell_type": "markdown",
   "id": "fe7962cc-f26d-4a4a-b5a3-d214e0f37456",
   "metadata": {
    "tags": []
   },
   "source": [
    "### Uruchamianie Triton Server"
   ]
  },
  {
   "cell_type": "markdown",
   "id": "8c07c620-7d6c-4275-87fe-e5b94335bdb9",
   "metadata": {},
   "source": [
    "Za pomocą komendy:\n",
    "\n",
    "```\n",
    "tritonserver --model-repository=/ensemble_export_path/ --backend-config=tensorflow,version=2\n",
    "```\n"
   ]
  },
  {
   "cell_type": "markdown",
   "id": "6c0a798f-6abf-4cbb-87f8-f60a6e757092",
   "metadata": {},
   "source": [
    "### Otrzymywanie rekomendacji"
   ]
  },
  {
   "cell_type": "code",
   "execution_count": null,
   "id": "ebeba193-4a25-480f-ac6a-a6cdb996fa70",
   "metadata": {
    "pycharm": {
     "is_executing": true
    }
   },
   "outputs": [],
   "source": [
    "\n",
    "ensemble.graph.output_schema.column_names"
   ]
  },
  {
   "cell_type": "code",
   "execution_count": 20,
   "id": "e95f1d85-9cbc-423b-9de1-91d1e421e5e4",
   "metadata": {},
   "outputs": [],
   "source": [
    "from merlin.systems.triton.utils import send_triton_request\n",
    "from merlin.core.dispatch import make_df\n",
    "\n",
    "# create a request to be sent to TIS\n",
    "request = make_df({\"user_id\": [1]})\n",
    "request[\"user_id\"] = request[\"user_id\"].astype(np.int32)\n",
    "\n",
    "# outputs = ensemble.graph.output_schema.column_names\n",
    "outputs = ['ordered_ids']"
   ]
  },
  {
   "cell_type": "code",
   "execution_count": 21,
   "id": "74ec62f2-5935-45c6-8058-e1cdade6f80f",
   "metadata": {},
   "outputs": [
    {
     "data": {
      "text/plain": [
       "{'ordered_ids': array([[2209489],\n",
       "        [1921832],\n",
       "        [1280386],\n",
       "        [2763866],\n",
       "        [ 863284],\n",
       "        [1225053],\n",
       "        [1928709],\n",
       "        [ 983790],\n",
       "        [ 102171],\n",
       "        [1189684]], dtype=int32)}"
      ]
     },
     "execution_count": 21,
     "metadata": {},
     "output_type": "execute_result"
    }
   ],
   "source": [
    "response = send_triton_request(request, outputs)\n",
    "response"
   ]
  }
 ],
 "metadata": {
  "kernelspec": {
   "display_name": "Python 3 (ipykernel)",
   "language": "python",
   "name": "python3"
  },
  "language_info": {
   "codemirror_mode": {
    "name": "ipython",
    "version": 3
   },
   "file_extension": ".py",
   "mimetype": "text/x-python",
   "name": "python",
   "nbconvert_exporter": "python",
   "pygments_lexer": "ipython3",
   "version": "3.8.10"
  },
  "merlin": {
   "containers": [
    "nvcr.io/nvidia/merlin/merlin-tensorflow-inference:latest"
   ]
  }
 },
 "nbformat": 4,
 "nbformat_minor": 5
}
