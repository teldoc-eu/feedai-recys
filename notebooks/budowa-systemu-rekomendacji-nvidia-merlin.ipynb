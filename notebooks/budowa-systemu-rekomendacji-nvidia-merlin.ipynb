{
 "cells": [
  {
   "cell_type": "markdown",
   "id": "ad9b5cc0-2110-464e-9773-003ffe7d216c",
   "metadata": {},
   "source": [
    "## 4-etpowy system rekomendacji FeedAI na podstawie datasetu Ali-CCP oraz frameworku NVidia Merlin"
   ]
  },
  {
   "cell_type": "markdown",
   "id": "b27ffed1-4b4b-4b6f-b933-31e9f6c1b4e1",
   "metadata": {},
   "source": [
    "Poniżej zostanie zaprezentowane wytworzenie 4-etapowego systemu rekomendacji wg wzorca opracowanego przez firmę NVidia i zaimplementowanwego na bazie frameworku NVidia Merlin, etapy to:\n",
    "\n",
    "- **Retrieval:** ograniczanie ilości kandydatów do rekomendacji np. z milionów do tysięcy lub setek, za pomocą modelu głębokiej sieci neuronowej tzw. Two_Tower\n",
    "- **Filtering:** usuwanie spośród kandydatów produktów za pomocą logiki biznesowej np. usuwanie produktów nie na stanie\n",
    "- **Scoring:** przypisanie kandydatom punktów ze wzlędu na ważnośc w rekomendacji za pomocą modelu tzw. DLRM\n",
    "- **Ordering:** ustalenie kolejnosci rekomendacji za pomocą logiki biznesowej, np. w celu zwiększenia sprzedaży w danej kategorii produktów\n",
    "\n",
    "Ciekawe odnośniki: [Moving Beyond Recommender Models talk](https://www.youtube.com/watch?v=5qjiY-kLwFY&list=PL65MqKWg6XcrdN4TJV0K1PdLhF_Uq-b43&index=7) z KOD 21 czy [blog post](https://eugeneyan.com/writing/system-design-for-discovery/)."
   ]
  },
  {
   "cell_type": "markdown",
   "id": "58d8bd1f-fa29-4d4b-a320-c76538f2302f",
   "metadata": {},
   "source": [
    "Dodatkowe zastosowane biblioteki/rozwiązania:\n",
    "\n",
    "- [Feast](https://docs.feast.dev/): an end-to-end open source feature store library for machine learning\n",
    "- [Faiss](https://github.com/facebookresearch/faiss): a library for efficient similarity search and clustering of dense vectors"
   ]
  },
  {
   "cell_type": "markdown",
   "id": "6c1586d8-e5a6-40c3-b6bb-61a3e62fa34c",
   "metadata": {},
   "source": [
    "**Kompatybilność:**\n",
    "\n",
    "Kod został opracowany na podstawie obrazu Docker którego definicja znajduje sie w lokalizacji `docker\\python_env\\Dockerfile`. Jest to poprawiona wersja obrazu `nvcr.io/nvidia/merlin/merlin-tensorflow-inference:22.05` umożliwiająca budowę systemu rekomendacji na GPU, oryginalne, związane z framweorkiem Merlin obrazy są publicznie dostępne w [NVIDIA's docker registry](https://catalog.ngc.nvidia.com/containers?filters=&orderBy=dateModifiedDESC&query=merlin).\n",
    "\n"
   ]
  },
  {
   "cell_type": "markdown",
   "source": [
    "## Wymagania\n",
    "\n",
    "### Hardware\n",
    "\n",
    "Do zbudowania i uruchomienia systemu rekomendacji wymagana jest karta z układem NVidia Ampere, np. taka jak zastosowana tutaj RTX A6000\n",
    "\n",
    "### Software\n",
    "\n",
    "- Docker\n",
    "- Sterowniki NVidia kompatybine z CUDA 11.6"
   ],
   "metadata": {
    "collapsed": false
   }
  },
  {
   "cell_type": "markdown",
   "source": [
    "### Import wymaganych bibliotek i funkcji"
   ],
   "metadata": {
    "collapsed": false
   }
  },
  {
   "cell_type": "code",
   "execution_count": 1,
   "id": "08cdbfcc",
   "metadata": {},
   "outputs": [
    {
     "name": "stderr",
     "output_type": "stream",
     "text": [
      "2022-12-05 12:36:03.422481: I tensorflow/core/util/util.cc:169] oneDNN custom operations are on. You may see slightly different numerical results due to floating-point round-off errors from different computation orders. To turn them off, set the environment variable `TF_ENABLE_ONEDNN_OPTS=0`.\n",
      "2022-12-05 12:36:04.657248: I tensorflow/stream_executor/cuda/cuda_gpu_executor.cc:961] could not open file to read NUMA node: /sys/bus/pci/devices/0000:c1:00.0/numa_node\n",
      "Your kernel may have been built without NUMA support.\n",
      "2022-12-05 12:36:04.684467: I tensorflow/stream_executor/cuda/cuda_gpu_executor.cc:961] could not open file to read NUMA node: /sys/bus/pci/devices/0000:c1:00.0/numa_node\n",
      "Your kernel may have been built without NUMA support.\n",
      "2022-12-05 12:36:04.684861: I tensorflow/stream_executor/cuda/cuda_gpu_executor.cc:961] could not open file to read NUMA node: /sys/bus/pci/devices/0000:c1:00.0/numa_node\n",
      "Your kernel may have been built without NUMA support.\n",
      "2022-12-05 12:36:04.716733: I tensorflow/core/platform/cpu_feature_guard.cc:193] This TensorFlow binary is optimized with oneAPI Deep Neural Network Library (oneDNN) to use the following CPU instructions in performance-critical operations:  AVX2 AVX512F AVX512_VNNI FMA\n",
      "To enable them in other operations, rebuild TensorFlow with the appropriate compiler flags.\n",
      "2022-12-05 12:36:04.719339: I tensorflow/stream_executor/cuda/cuda_gpu_executor.cc:961] could not open file to read NUMA node: /sys/bus/pci/devices/0000:c1:00.0/numa_node\n",
      "Your kernel may have been built without NUMA support.\n",
      "2022-12-05 12:36:04.719795: I tensorflow/stream_executor/cuda/cuda_gpu_executor.cc:961] could not open file to read NUMA node: /sys/bus/pci/devices/0000:c1:00.0/numa_node\n",
      "Your kernel may have been built without NUMA support.\n",
      "2022-12-05 12:36:04.720083: I tensorflow/stream_executor/cuda/cuda_gpu_executor.cc:961] could not open file to read NUMA node: /sys/bus/pci/devices/0000:c1:00.0/numa_node\n",
      "Your kernel may have been built without NUMA support.\n",
      "2022-12-05 12:36:05.058278: I tensorflow/stream_executor/cuda/cuda_gpu_executor.cc:961] could not open file to read NUMA node: /sys/bus/pci/devices/0000:c1:00.0/numa_node\n",
      "Your kernel may have been built without NUMA support.\n",
      "2022-12-05 12:36:05.058548: I tensorflow/stream_executor/cuda/cuda_gpu_executor.cc:961] could not open file to read NUMA node: /sys/bus/pci/devices/0000:c1:00.0/numa_node\n",
      "Your kernel may have been built without NUMA support.\n",
      "2022-12-05 12:36:05.058558: I tensorflow/core/common_runtime/gpu/gpu_device.cc:1616] Could not identify NUMA node of platform GPU id 0, defaulting to 0.  Your kernel may not have been built with NUMA support.\n",
      "2022-12-05 12:36:05.058892: I tensorflow/stream_executor/cuda/cuda_gpu_executor.cc:961] could not open file to read NUMA node: /sys/bus/pci/devices/0000:c1:00.0/numa_node\n",
      "Your kernel may have been built without NUMA support.\n",
      "2022-12-05 12:36:05.058952: I tensorflow/core/common_runtime/gpu/gpu_device.cc:1532] Created device /job:localhost/replica:0/task:0/device:GPU:0 with 21618 MB memory:  -> device: 0, name: NVIDIA GeForce RTX 3090, pci bus id: 0000:c1:00.0, compute capability: 8.6\n"
     ]
    }
   ],
   "source": [
    "import os\n",
    "import glob\n",
    "import gc\n",
    "import nvtabular as nvt\n",
    "from nvtabular.ops import *\n",
    "from merlin.models.utils.example_utils import workflow_fit_transform\n",
    "from merlin.schema.tags import Tags\n",
    "import merlin.models.tf as mm\n",
    "from merlin.io.dataset import Dataset\n",
    "import tensorflow as tf"
   ]
  },
  {
   "cell_type": "code",
   "execution_count": 2,
   "id": "028a1398-76a8-4998-97d8-34a806e130d3",
   "metadata": {},
   "outputs": [],
   "source": [
    "import logging\n",
    "logging.disable(logging.WARNING)"
   ]
  },
  {
   "cell_type": "markdown",
   "id": "baad8ae3",
   "metadata": {},
   "source": [
    "Do budowy systemu wykorzystujemy publiczny dataset [Ali-CCP: Alibaba Click and Conversion Prediction](https://tianchi.aliyun.com/dataset/dataDetail?dataId=408#1) który został szerzej opisany w dokumentacji.\n",
    "\n",
    "Dataset został pobrany rozpakowany do dowlonej lokalnej ścieżki `<sciezka_lokalna>/ali-ccp/raw_data_unpacked/` i zamontowany we wspomnianym powyżej kontenerze Docker za pomoca flagi: `-v <sciezka_lokalna>/:/workspace/data/`\n"
   ]
  },
  {
   "cell_type": "markdown",
   "source": [
    "Definicja lokalizacji datasetu:"
   ],
   "metadata": {
    "collapsed": false
   }
  },
  {
   "cell_type": "code",
   "execution_count": 4,
   "id": "81ddb370",
   "metadata": {},
   "outputs": [],
   "source": [
    "import os\n",
    "DATA_FOLDER = os.environ.get(\"DATA_FOLDER\", \"/workspace/data/ali-ccp/raw_data_unpacked/\")\n",
    "output_path = os.path.join(DATA_FOLDER, 'processed/ranking')"
   ]
  },
  {
   "cell_type": "markdown",
   "id": "7a746a3f-1845-4af3-8a37-1b34aa1bb81b",
   "metadata": {},
   "source": [
    "Zczytanie datasetu do formatu `.parquet`:"
   ]
  },
  {
   "cell_type": "code",
   "execution_count": 5,
   "id": "b44b3378-7297-4946-a271-742a9239bc3e",
   "metadata": {},
   "outputs": [
    {
     "name": "stderr",
     "output_type": "stream",
     "text": [
      "2022-12-05 11:43:00.411862: I tensorflow/stream_executor/cuda/cuda_gpu_executor.cc:961] could not open file to read NUMA node: /sys/bus/pci/devices/0000:c1:00.0/numa_node\n",
      "Your kernel may have been built without NUMA support.\n",
      "2022-12-05 11:43:00.412293: I tensorflow/stream_executor/cuda/cuda_gpu_executor.cc:961] could not open file to read NUMA node: /sys/bus/pci/devices/0000:c1:00.0/numa_node\n",
      "Your kernel may have been built without NUMA support.\n",
      "2022-12-05 11:43:00.412602: I tensorflow/stream_executor/cuda/cuda_gpu_executor.cc:961] could not open file to read NUMA node: /sys/bus/pci/devices/0000:c1:00.0/numa_node\n",
      "Your kernel may have been built without NUMA support.\n",
      "2022-12-05 11:43:00.413005: I tensorflow/stream_executor/cuda/cuda_gpu_executor.cc:961] could not open file to read NUMA node: /sys/bus/pci/devices/0000:c1:00.0/numa_node\n",
      "Your kernel may have been built without NUMA support.\n",
      "2022-12-05 11:43:00.413019: I tensorflow/core/common_runtime/gpu/gpu_device.cc:1616] Could not identify NUMA node of platform GPU id 0, defaulting to 0.  Your kernel may not have been built with NUMA support.\n",
      "2022-12-05 11:43:00.413231: I tensorflow/stream_executor/cuda/cuda_gpu_executor.cc:961] could not open file to read NUMA node: /sys/bus/pci/devices/0000:c1:00.0/numa_node\n",
      "Your kernel may have been built without NUMA support.\n",
      "2022-12-05 11:43:00.413261: I tensorflow/core/common_runtime/gpu/gpu_device.cc:1532] Created device /device:GPU:0 with 21618 MB memory:  -> device: 0, name: NVIDIA GeForce RTX 3090, pci bus id: 0000:c1:00.0, compute capability: 8.6\n",
      "/usr/local/lib/python3.8/dist-packages/merlin/io/dataset.py:251: UserWarning: Initializing an NVTabular Dataset in CPU mode.This is an experimental feature with extremely limited support!\n",
      "  warnings.warn(\n"
     ]
    }
   ],
   "source": [
    "from merlin.datasets.ecommerce.aliccp.dataset import get_aliccp\n",
    "\n",
    "# w celu ponownego uruchomienia usunac katalog `raw` ze sciezki DATA_FOLDER\n",
    "\n",
    "train, valid = get_aliccp(DATA_FOLDER, overwrite=False)"
   ]
  },
  {
   "cell_type": "markdown",
   "id": "cf9bca46-a6b6-4a73-afd8-fe2869c60748",
   "metadata": {},
   "source": [
    "### Ekstrakcja atrybutów produktów i użytkowników za pomocą NVTabular"
   ]
  },
  {
   "cell_type": "markdown",
   "id": "da2b09cc-09fb-4814-a1cb-7e6168d9eb4b",
   "metadata": {},
   "source": [
    "Przetwarzanie atrybutów kategorycznycvh za pomocą operatora`Categorify()` oraz tagowanie za pomocą taków `user` albo `item`. Więcej na [NVTabular](https://github.com/NVIDIA-Merlin/NVTabular)"
   ]
  },
  {
   "cell_type": "code",
   "execution_count": 7,
   "id": "550d45c9",
   "metadata": {},
   "outputs": [
    {
     "name": "stdout",
     "output_type": "stream",
     "text": [
      "CPU times: user 241 µs, sys: 5 µs, total: 246 µs\n",
      "Wall time: 260 µs\n"
     ]
    }
   ],
   "source": [
    "%%time\n",
    "\n",
    "user_id = [\"user_id\"] >> Categorify(dtype='int32') >> TagAsUserID()\n",
    "item_id = [\"item_id\"] >> Categorify(dtype='int32') >> TagAsItemID()\n",
    "\n",
    "item_features = [\"item_category\", \"item_shop\", \"item_brand\"] >> Categorify(dtype='int32') >> TagAsItemFeatures() \n",
    "\n",
    "user_features = ['user_shops', 'user_profile', 'user_group', \n",
    "       'user_gender', 'user_age', 'user_consumption_2', 'user_is_occupied',\n",
    "       'user_geography', 'user_intentions', 'user_brands', 'user_categories'] \\\n",
    "    >> Categorify(dtype='int32') >> TagAsUserFeatures() \n",
    "\n",
    "targets = [\"click\"] >> AddMetadata(tags=[Tags.BINARY_CLASSIFICATION, \"target\"])\n",
    "\n",
    "outputs = user_id+item_id+item_features+user_features+targets"
   ]
  },
  {
   "cell_type": "markdown",
   "id": "ad19550f-49db-48a3-83c6-aad7d348673c",
   "metadata": {},
   "source": [
    "Uruchomienie funkcji `transform_aliccp` w celu aplikacji powyższego przetwarzania, przetworzony dataset w tej formie jest zapisany w formie plików `parquet` w lokalizacji output_path."
   ]
  },
  {
   "cell_type": "code",
   "execution_count": 8,
   "id": "e117e7b5-5007-424b-8d3f-9e1db245fd4c",
   "metadata": {},
   "outputs": [],
   "source": [
    "from merlin.datasets.ecommerce import transform_aliccp\n",
    "\n",
    "transform_aliccp((train, valid), output_path, nvt_workflow=outputs, workflow_name='workflow_ranking')"
   ]
  },
  {
   "cell_type": "markdown",
   "id": "e16401d4",
   "metadata": {
    "tags": []
   },
   "source": [
    "### Etap `Scoring` - trening modelu DLRM opisanego w dokumentacji"
   ]
  },
  {
   "cell_type": "code",
   "execution_count": 6,
   "id": "cb870461-6ac2-49b2-ba6a-2da6ecb57f1d",
   "metadata": {},
   "outputs": [],
   "source": [
    "# define train and valid dataset objects\n",
    "train = Dataset(os.path.join(output_path, 'train', '*.parquet'), part_size=\"500MB\")\n",
    "valid = Dataset(os.path.join(output_path, 'valid', '*.parquet'), part_size=\"500MB\")\n",
    "\n",
    "# define schema object\n",
    "schema = train.schema"
   ]
  },
  {
   "cell_type": "code",
   "execution_count": 7,
   "id": "30e4ebc2",
   "metadata": {},
   "outputs": [
    {
     "data": {
      "text/plain": "'click'"
     },
     "execution_count": 7,
     "metadata": {},
     "output_type": "execute_result"
    }
   ],
   "source": [
    "target_column = schema.select_by_tag(Tags.TARGET).column_names[0]\n",
    "target_column"
   ]
  },
  {
   "cell_type": "code",
   "execution_count": 11,
   "id": "e4325080",
   "metadata": {},
   "outputs": [],
   "source": [
    "model = mm.DLRMModel(\n",
    "    schema,\n",
    "    embedding_dim=64,\n",
    "    bottom_block=mm.MLPBlock([128, 64]),\n",
    "    top_block=mm.MLPBlock([128, 64, 32]),\n",
    "    prediction_tasks=mm.BinaryClassificationTask(target_column, metrics=[tf.keras.metrics.AUC()])\n",
    ")"
   ]
  },
  {
   "cell_type": "code",
   "execution_count": 12,
   "id": "bfe2aa9e",
   "metadata": {},
   "outputs": [
    {
     "name": "stderr",
     "output_type": "stream",
     "text": [
      "2022-11-22 18:42:04.721557: I tensorflow/stream_executor/cuda/cuda_blas.cc:1786] TensorFloat-32 will be used for the matrix multiplication. This will only be logged once.\n"
     ]
    },
    {
     "name": "stdout",
     "output_type": "stream",
     "text": [
      "2582/2582 [==============================] - ETA: 0s - auc: 0.6521 - loss: 0.1611 - regularization_loss: 0.0000e+00 - total_loss: 0.1611"
     ]
    },
    {
     "name": "stderr",
     "output_type": "stream",
     "text": [
      "2022-11-22 18:45:28.285271: W tensorflow/core/grappler/optimizers/loop_optimizer.cc:907] Skipping loop optimization for Merge node with control input: cond/branch_executed/_13\n"
     ]
    },
    {
     "name": "stdout",
     "output_type": "stream",
     "text": [
      "2582/2582 [==============================] - 221s 84ms/step - auc: 0.6521 - loss: 0.1611 - regularization_loss: 0.0000e+00 - total_loss: 0.1611 - val_auc: 0.6070 - val_loss: 0.1448 - val_regularization_loss: 0.0000e+00 - val_total_loss: 0.1448\n"
     ]
    },
    {
     "data": {
      "text/plain": [
       "<keras.callbacks.History at 0x7f70971e3d90>"
      ]
     },
     "execution_count": 12,
     "metadata": {},
     "output_type": "execute_result"
    }
   ],
   "source": [
    "model.compile(optimizer='adam', run_eagerly=False)\n",
    "model.fit(train, validation_data=valid, batch_size=16*1024)"
   ]
  },
  {
   "cell_type": "code",
   "execution_count": 13,
   "id": "dd78a82e",
   "metadata": {},
   "outputs": [],
   "source": [
    "# katalog dla repozytorium atrybutów\n",
    "BASE_DIR = os.environ.get(\"BASE_DIR\", \"/Merlin/examples/Building-and-deploying-multi-stage-RecSys/\")"
   ]
  },
  {
   "cell_type": "markdown",
   "id": "498c4d49-7a59-4260-87b9-b86b66f2c67f",
   "metadata": {},
   "source": [
    "Zapis modelu DLRM, zostanie załadowny w celu wdrożenia"
   ]
  },
  {
   "cell_type": "code",
   "execution_count": 14,
   "id": "00447c12-ea80-4d98-ab47-cc1a982a6958",
   "metadata": {},
   "outputs": [],
   "source": [
    "model.save(os.path.join(BASE_DIR, 'dlrm'))"
   ]
  },
  {
   "cell_type": "markdown",
   "id": "91205a3c-f46e-45a0-b668-1a9bdef0c51d",
   "metadata": {},
   "source": [
    "### Trening modelu Two-Tower na potrzeby etapu identufikacji kandydatów rekomendacji - `Retrieval`"
   ]
  },
  {
   "cell_type": "code",
   "execution_count": 6,
   "id": "00de24e9-331a-486e-9843-6c554ad2ec77",
   "metadata": {},
   "outputs": [],
   "source": [
    "output_path = os.path.join(DATA_FOLDER, 'processed/retrieval')"
   ]
  },
  {
   "cell_type": "code",
   "execution_count": 17,
   "id": "22a7d605-478f-40e6-a5dc-3e7a61e9b035",
   "metadata": {},
   "outputs": [
    {
     "name": "stderr",
     "output_type": "stream",
     "text": [
      "/usr/lib/python3.8/site-packages/cudf/core/dataframe.py:1292: UserWarning: The deep parameter is ignored and is only included for pandas compatibility.\n",
      "  warnings.warn(\n"
     ]
    }
   ],
   "source": [
    "user_id = [\"user_id\"] >> Categorify(dtype='int32') >> TagAsUserID()\n",
    "item_id = [\"item_id\"] >> Categorify(dtype='int32') >> TagAsItemID()\n",
    "\n",
    "item_features = [\"item_category\", \"item_shop\", \"item_brand\"] >> Categorify(dtype='int32') >> TagAsItemFeatures()\n",
    "\n",
    "user_features = ['user_shops', 'user_profile', 'user_group', \n",
    "       'user_gender', 'user_age', 'user_consumption_2', 'user_is_occupied',\n",
    "       'user_geography', 'user_intentions', 'user_brands', 'user_categories'] \\\n",
    "        >> Categorify(dtype='int32') >> TagAsUserFeatures() \n",
    "\n",
    "inputs = user_id + item_id + item_features + user_features + ['click'] \n",
    "\n",
    "outputs = inputs >> Filter(f=lambda df: df[\"click\"] == 1)\n",
    "\n",
    "transform_aliccp((train, valid), output_path, nvt_workflow=outputs, workflow_name='workflow_retrieval')"
   ]
  },
  {
   "cell_type": "code",
   "execution_count": 7,
   "id": "dc150549-6fa0-441f-939d-a358e56d5e43",
   "metadata": {},
   "outputs": [
    {
     "name": "stderr",
     "output_type": "stream",
     "text": [
      "/usr/local/lib/python3.8/dist-packages/merlin/io/dataset.py:251: UserWarning: Initializing an NVTabular Dataset in CPU mode.This is an experimental feature with extremely limited support!\n",
      "  warnings.warn(\n"
     ]
    }
   ],
   "source": [
    "train_tt = Dataset(os.path.join(output_path, 'train', '*.parquet'))\n",
    "valid_tt = Dataset(os.path.join(output_path, 'valid', '*.parquet'))\n",
    "\n",
    "schema = train_tt.schema\n",
    "schema = schema.select_by_tag([Tags.ITEM_ID, Tags.USER_ID, Tags.ITEM, Tags.USER])"
   ]
  },
  {
   "cell_type": "code",
   "execution_count": 8,
   "id": "02471088-0ed8-42e7-968e-b7e68865d55c",
   "metadata": {},
   "outputs": [],
   "source": [
    "model = mm.TwoTowerModel(\n",
    "    schema,\n",
    "    query_tower=mm.MLPBlock([128, 64], no_activation_last_layer=True),        \n",
    "    loss=\"categorical_crossentropy\",  \n",
    "    samplers=[mm.InBatchSampler()],\n",
    "    embedding_options = mm.EmbeddingOptions(infer_embedding_sizes=True),\n",
    "    metrics=[mm.RecallAt(10), mm.NDCGAt(10)]\n",
    ")"
   ]
  },
  {
   "cell_type": "code",
   "execution_count": 9,
   "id": "d6703d7c-d38f-4d6d-a20a-9ee95ff1e256",
   "metadata": {},
   "outputs": [
    {
     "name": "stdout",
     "output_type": "stream",
     "text": [
      "Epoch 1/13\n"
     ]
    },
    {
     "name": "stderr",
     "output_type": "stream",
     "text": [
      "2022-12-05 12:37:07.867350: I tensorflow/stream_executor/cuda/cuda_blas.cc:1786] TensorFloat-32 will be used for the matrix multiplication. This will only be logged once.\n"
     ]
    },
    {
     "name": "stdout",
     "output_type": "stream",
     "text": [
      "201/201 [==============================] - ETA: 0s - recall_at_10: 0.0045 - ndcg_10: 0.0020 - loss: 8.7061 - regularization_loss: 0.0000e+00 - total_loss: 8.7061"
     ]
    },
    {
     "name": "stderr",
     "output_type": "stream",
     "text": [
      "2022-12-05 12:37:34.637443: W tensorflow/core/grappler/optimizers/loop_optimizer.cc:907] Skipping loop optimization for Merge node with control input: cond/branch_executed/_24\n"
     ]
    },
    {
     "name": "stdout",
     "output_type": "stream",
     "text": [
      "201/201 [==============================] - 34s 134ms/step - recall_at_10: 0.0045 - ndcg_10: 0.0020 - loss: 8.7031 - regularization_loss: 0.0000e+00 - total_loss: 8.7031 - val_recall_at_10: 0.0068 - val_ndcg_10: 0.0029 - val_loss: 7.1465 - val_regularization_loss: 0.0000e+00 - val_total_loss: 7.1465\n",
      "Epoch 2/13\n",
      "201/201 [==============================] - 28s 135ms/step - recall_at_10: 0.0235 - ndcg_10: 0.0104 - loss: 7.9750 - regularization_loss: 0.0000e+00 - total_loss: 7.9750 - val_recall_at_10: 0.0143 - val_ndcg_10: 0.0063 - val_loss: 7.0923 - val_regularization_loss: 0.0000e+00 - val_total_loss: 7.0923\n",
      "Epoch 3/13\n",
      "201/201 [==============================] - 26s 127ms/step - recall_at_10: 0.0898 - ndcg_10: 0.0432 - loss: 7.1914 - regularization_loss: 0.0000e+00 - total_loss: 7.1914 - val_recall_at_10: 0.0198 - val_ndcg_10: 0.0091 - val_loss: 7.2774 - val_regularization_loss: 0.0000e+00 - val_total_loss: 7.2774\n",
      "Epoch 4/13\n",
      "201/201 [==============================] - 27s 129ms/step - recall_at_10: 0.2200 - ndcg_10: 0.1209 - loss: 6.4130 - regularization_loss: 0.0000e+00 - total_loss: 6.4130 - val_recall_at_10: 0.0217 - val_ndcg_10: 0.0104 - val_loss: 7.7527 - val_regularization_loss: 0.0000e+00 - val_total_loss: 7.7527\n",
      "Epoch 5/13\n",
      "201/201 [==============================] - 27s 128ms/step - recall_at_10: 0.3523 - ndcg_10: 0.2194 - loss: 5.6376 - regularization_loss: 0.0000e+00 - total_loss: 5.6376 - val_recall_at_10: 0.0224 - val_ndcg_10: 0.0112 - val_loss: 8.3284 - val_regularization_loss: 0.0000e+00 - val_total_loss: 8.3284\n",
      "Epoch 6/13\n",
      "201/201 [==============================] - 26s 127ms/step - recall_at_10: 0.4483 - ndcg_10: 0.2976 - loss: 4.9355 - regularization_loss: 0.0000e+00 - total_loss: 4.9355 - val_recall_at_10: 0.0227 - val_ndcg_10: 0.0115 - val_loss: 8.8659 - val_regularization_loss: 0.0000e+00 - val_total_loss: 8.8659\n",
      "Epoch 7/13\n",
      "201/201 [==============================] - 27s 128ms/step - recall_at_10: 0.5212 - ndcg_10: 0.3545 - loss: 4.3865 - regularization_loss: 0.0000e+00 - total_loss: 4.3865 - val_recall_at_10: 0.0231 - val_ndcg_10: 0.0119 - val_loss: 9.2838 - val_regularization_loss: 0.0000e+00 - val_total_loss: 9.2838\n",
      "Epoch 8/13\n",
      "201/201 [==============================] - 27s 129ms/step - recall_at_10: 0.5800 - ndcg_10: 0.3993 - loss: 3.9698 - regularization_loss: 0.0000e+00 - total_loss: 3.9698 - val_recall_at_10: 0.0234 - val_ndcg_10: 0.0122 - val_loss: 9.6916 - val_regularization_loss: 0.0000e+00 - val_total_loss: 9.6916\n",
      "Epoch 9/13\n",
      "201/201 [==============================] - 27s 128ms/step - recall_at_10: 0.6282 - ndcg_10: 0.4361 - loss: 3.6411 - regularization_loss: 0.0000e+00 - total_loss: 3.6411 - val_recall_at_10: 0.0235 - val_ndcg_10: 0.0123 - val_loss: 10.0925 - val_regularization_loss: 0.0000e+00 - val_total_loss: 10.0925\n",
      "Epoch 10/13\n",
      "201/201 [==============================] - 28s 135ms/step - recall_at_10: 0.6674 - ndcg_10: 0.4667 - loss: 3.3785 - regularization_loss: 0.0000e+00 - total_loss: 3.3785 - val_recall_at_10: 0.0233 - val_ndcg_10: 0.0123 - val_loss: 10.5242 - val_regularization_loss: 0.0000e+00 - val_total_loss: 10.5242\n",
      "Epoch 11/13\n",
      "201/201 [==============================] - 27s 131ms/step - recall_at_10: 0.7001 - ndcg_10: 0.4924 - loss: 3.1634 - regularization_loss: 0.0000e+00 - total_loss: 3.1634 - val_recall_at_10: 0.0234 - val_ndcg_10: 0.0124 - val_loss: 10.8727 - val_regularization_loss: 0.0000e+00 - val_total_loss: 10.8727\n",
      "Epoch 12/13\n",
      "201/201 [==============================] - 26s 127ms/step - recall_at_10: 0.7275 - ndcg_10: 0.5138 - loss: 2.9849 - regularization_loss: 0.0000e+00 - total_loss: 2.9849 - val_recall_at_10: 0.0233 - val_ndcg_10: 0.0124 - val_loss: 11.2023 - val_regularization_loss: 0.0000e+00 - val_total_loss: 11.2023\n",
      "Epoch 13/13\n",
      "201/201 [==============================] - 26s 126ms/step - recall_at_10: 0.7506 - ndcg_10: 0.5323 - loss: 2.8353 - regularization_loss: 0.0000e+00 - total_loss: 2.8353 - val_recall_at_10: 0.0232 - val_ndcg_10: 0.0123 - val_loss: 11.4662 - val_regularization_loss: 0.0000e+00 - val_total_loss: 11.4662\n"
     ]
    },
    {
     "data": {
      "text/plain": "<keras.callbacks.History at 0x7fa200503100>"
     },
     "execution_count": 9,
     "metadata": {},
     "output_type": "execute_result"
    }
   ],
   "source": [
    "model.compile(optimizer='adam', run_eagerly=False)\n",
    "model.fit(train_tt, validation_data=valid_tt, batch_size=1024*8, epochs=13)"
   ]
  },
  {
   "cell_type": "markdown",
   "id": "5da1f434-f5a1-4478-b588-7e7ec17e6a88",
   "metadata": {},
   "source": [
    "### Repozytorium atrybutów - Feast"
   ]
  },
  {
   "cell_type": "markdown",
   "id": "99a4e939-d3cf-44f0-9012-d2af3264ee25",
   "metadata": {},
   "source": [
    "Utworzenie repozytorium"
   ]
  },
  {
   "cell_type": "code",
   "execution_count": 24,
   "id": "2e7e96d2-9cd2-40d1-b356-8cd76b57bb4a",
   "metadata": {},
   "outputs": [
    {
     "name": "stdout",
     "output_type": "stream",
     "text": [
      "Feast is an open source project that collects anonymized error reporting and usage statistics. To opt out or learn more see https://docs.feast.dev/reference/usage\n",
      "/usr/local/lib/python3.8/dist-packages/cupy/_environment.py:439: UserWarning: \n",
      "--------------------------------------------------------------------------------\n",
      "\n",
      "  CuPy may not function correctly because multiple CuPy packages are installed\n",
      "  in your environment:\n",
      "\n",
      "    cupy-cuda116, cupy-cuda11x\n",
      "\n",
      "  Follow these steps to resolve this issue:\n",
      "\n",
      "    1. For all packages listed above, run the following command to remove all\n",
      "       existing CuPy installations:\n",
      "\n",
      "         $ pip uninstall <package_name>\n",
      "\n",
      "      If you previously installed CuPy via conda, also run the following:\n",
      "\n",
      "         $ conda uninstall cupy\n",
      "\n",
      "    2. Install the appropriate CuPy package.\n",
      "       Refer to the Installation Guide for detailed instructions.\n",
      "\n",
      "         https://docs.cupy.dev/en/stable/install.html\n",
      "\n",
      "--------------------------------------------------------------------------------\n",
      "\n",
      "  warnings.warn(f'''\n",
      "\n",
      "Creating a new Feast repository in \u001B[1m\u001B[32m/Merlin/examples/Building-and-deploying-multi-stage-RecSys/feature_repo\u001B[0m.\n",
      "\n"
     ]
    }
   ],
   "source": [
    "!cd $BASE_DIR && feast init feature_repo"
   ]
  },
  {
   "cell_type": "markdown",
   "id": "5e630e53-8336-487a-9ceb-133b1538acfb",
   "metadata": {},
   "source": [
    "You should be seeing a message like <i>Creating a new Feast repository in ... </i> printed out above. Now, navigate to the `feature_repo` folder and remove the demo parquet file created by default, and `examples.py` file."
   ]
  },
  {
   "cell_type": "code",
   "execution_count": 25,
   "id": "26ba2521-ed1b-4c2b-afdd-26b4a5a9c008",
   "metadata": {},
   "outputs": [],
   "source": [
    "os.remove(os.path.join(BASE_DIR, 'feature_repo', 'example.py'))\n",
    "os.remove(os.path.join(BASE_DIR, 'feature_repo/data', 'driver_stats.parquet'))"
   ]
  },
  {
   "cell_type": "markdown",
   "id": "e44fc89d-170b-41a1-a29b-5f958ed31399",
   "metadata": {},
   "source": [
    "### Eksport modelu Two Tower za pomocą API Merlin w postaci umożliwiającej proponowanie produktów sla uzytkownika"
   ]
  },
  {
   "cell_type": "code",
   "execution_count": 26,
   "id": "2af24597-e89c-43a4-9a13-458d8bed7c8a",
   "metadata": {},
   "outputs": [],
   "source": [
    "query_tower = model.retrieval_block.query_block()\n",
    "query_tower.save(os.path.join(BASE_DIR, 'query_tower'))"
   ]
  },
  {
   "cell_type": "markdown",
   "id": "78315676-eb6c-405a-b1fd-3174ea328406",
   "metadata": {},
   "source": [
    "### Eksport atrybutów użytkowników oraz produktów"
   ]
  },
  {
   "cell_type": "code",
   "execution_count": 27,
   "id": "ea0b369c-2f01-42e3-9f3c-74c3ff4a6d64",
   "metadata": {},
   "outputs": [],
   "source": [
    "from merlin.models.utils.dataset import unique_rows_by_features\n",
    "user_features = unique_rows_by_features(train, Tags.USER, Tags.USER_ID).compute().reset_index(drop=True)"
   ]
  },
  {
   "cell_type": "code",
   "execution_count": 28,
   "id": "6b0949f9-e67a-414f-9d74-65f138e820a8",
   "metadata": {},
   "outputs": [
    {
     "data": {
      "text/html": [
       "<div>\n",
       "<style scoped>\n",
       "    .dataframe tbody tr th:only-of-type {\n",
       "        vertical-align: middle;\n",
       "    }\n",
       "\n",
       "    .dataframe tbody tr th {\n",
       "        vertical-align: top;\n",
       "    }\n",
       "\n",
       "    .dataframe thead th {\n",
       "        text-align: right;\n",
       "    }\n",
       "</style>\n",
       "<table border=\"1\" class=\"dataframe\">\n",
       "  <thead>\n",
       "    <tr style=\"text-align: right;\">\n",
       "      <th></th>\n",
       "      <th>user_id</th>\n",
       "      <th>user_shops</th>\n",
       "      <th>user_profile</th>\n",
       "      <th>user_group</th>\n",
       "      <th>user_gender</th>\n",
       "      <th>user_age</th>\n",
       "      <th>user_consumption_2</th>\n",
       "      <th>user_is_occupied</th>\n",
       "      <th>user_geography</th>\n",
       "      <th>user_intentions</th>\n",
       "      <th>user_brands</th>\n",
       "      <th>user_categories</th>\n",
       "    </tr>\n",
       "  </thead>\n",
       "  <tbody>\n",
       "    <tr>\n",
       "      <th>0</th>\n",
       "      <td>1</td>\n",
       "      <td>3</td>\n",
       "      <td>1</td>\n",
       "      <td>6</td>\n",
       "      <td>2</td>\n",
       "      <td>2</td>\n",
       "      <td>3</td>\n",
       "      <td>1</td>\n",
       "      <td>1</td>\n",
       "      <td>56</td>\n",
       "      <td>2</td>\n",
       "      <td>20</td>\n",
       "    </tr>\n",
       "    <tr>\n",
       "      <th>1</th>\n",
       "      <td>2</td>\n",
       "      <td>1</td>\n",
       "      <td>1</td>\n",
       "      <td>2</td>\n",
       "      <td>1</td>\n",
       "      <td>2</td>\n",
       "      <td>1</td>\n",
       "      <td>1</td>\n",
       "      <td>1</td>\n",
       "      <td>1</td>\n",
       "      <td>12</td>\n",
       "      <td>105</td>\n",
       "    </tr>\n",
       "    <tr>\n",
       "      <th>2</th>\n",
       "      <td>3</td>\n",
       "      <td>1602</td>\n",
       "      <td>24</td>\n",
       "      <td>8</td>\n",
       "      <td>2</td>\n",
       "      <td>3</td>\n",
       "      <td>1</td>\n",
       "      <td>1</td>\n",
       "      <td>2</td>\n",
       "      <td>5</td>\n",
       "      <td>64</td>\n",
       "      <td>3</td>\n",
       "    </tr>\n",
       "    <tr>\n",
       "      <th>3</th>\n",
       "      <td>4</td>\n",
       "      <td>112</td>\n",
       "      <td>2</td>\n",
       "      <td>3</td>\n",
       "      <td>3</td>\n",
       "      <td>5</td>\n",
       "      <td>2</td>\n",
       "      <td>2</td>\n",
       "      <td>1</td>\n",
       "      <td>69</td>\n",
       "      <td>134</td>\n",
       "      <td>9</td>\n",
       "    </tr>\n",
       "    <tr>\n",
       "      <th>4</th>\n",
       "      <td>5</td>\n",
       "      <td>982</td>\n",
       "      <td>2</td>\n",
       "      <td>3</td>\n",
       "      <td>3</td>\n",
       "      <td>5</td>\n",
       "      <td>2</td>\n",
       "      <td>2</td>\n",
       "      <td>1</td>\n",
       "      <td>676</td>\n",
       "      <td>286</td>\n",
       "      <td>17</td>\n",
       "    </tr>\n",
       "  </tbody>\n",
       "</table>\n",
       "</div>"
      ],
      "text/plain": [
       "   user_id  user_shops  user_profile  user_group  user_gender  user_age  \\\n",
       "0        1           3             1           6            2         2   \n",
       "1        2           1             1           2            1         2   \n",
       "2        3        1602            24           8            2         3   \n",
       "3        4         112             2           3            3         5   \n",
       "4        5         982             2           3            3         5   \n",
       "\n",
       "   user_consumption_2  user_is_occupied  user_geography  user_intentions  \\\n",
       "0                   3                 1               1               56   \n",
       "1                   1                 1               1                1   \n",
       "2                   1                 1               2                5   \n",
       "3                   2                 2               1               69   \n",
       "4                   2                 2               1              676   \n",
       "\n",
       "   user_brands  user_categories  \n",
       "0            2               20  \n",
       "1           12              105  \n",
       "2           64                3  \n",
       "3          134                9  \n",
       "4          286               17  "
      ]
     },
     "execution_count": 28,
     "metadata": {},
     "output_type": "execute_result"
    }
   ],
   "source": [
    "user_features.head()"
   ]
  },
  {
   "cell_type": "markdown",
   "id": "4a46bd8c-1337-4c74-a85b-25348a897d90",
   "metadata": {},
   "source": [
    "Feast wymaga atrybutów `datetime` i `created` - dodajemy sztucznie"
   ]
  },
  {
   "cell_type": "code",
   "execution_count": 29,
   "id": "d30bd2f8-8a78-4df7-9bc4-42bd741c5b99",
   "metadata": {},
   "outputs": [],
   "source": [
    "from datetime import datetime\n",
    "user_features[\"datetime\"] = datetime.now()\n",
    "user_features[\"datetime\"] = user_features[\"datetime\"].astype(\"datetime64[ns]\")\n",
    "user_features[\"created\"] = datetime.now()\n",
    "user_features[\"created\"] = user_features[\"created\"].astype(\"datetime64[ns]\")"
   ]
  },
  {
   "cell_type": "code",
   "execution_count": 30,
   "id": "d4998cd1-9dcd-4911-8f23-372e197b41e9",
   "metadata": {},
   "outputs": [
    {
     "data": {
      "text/html": [
       "<div>\n",
       "<style scoped>\n",
       "    .dataframe tbody tr th:only-of-type {\n",
       "        vertical-align: middle;\n",
       "    }\n",
       "\n",
       "    .dataframe tbody tr th {\n",
       "        vertical-align: top;\n",
       "    }\n",
       "\n",
       "    .dataframe thead th {\n",
       "        text-align: right;\n",
       "    }\n",
       "</style>\n",
       "<table border=\"1\" class=\"dataframe\">\n",
       "  <thead>\n",
       "    <tr style=\"text-align: right;\">\n",
       "      <th></th>\n",
       "      <th>user_id</th>\n",
       "      <th>user_shops</th>\n",
       "      <th>user_profile</th>\n",
       "      <th>user_group</th>\n",
       "      <th>user_gender</th>\n",
       "      <th>user_age</th>\n",
       "      <th>user_consumption_2</th>\n",
       "      <th>user_is_occupied</th>\n",
       "      <th>user_geography</th>\n",
       "      <th>user_intentions</th>\n",
       "      <th>user_brands</th>\n",
       "      <th>user_categories</th>\n",
       "      <th>datetime</th>\n",
       "      <th>created</th>\n",
       "    </tr>\n",
       "  </thead>\n",
       "  <tbody>\n",
       "    <tr>\n",
       "      <th>0</th>\n",
       "      <td>1</td>\n",
       "      <td>3</td>\n",
       "      <td>1</td>\n",
       "      <td>6</td>\n",
       "      <td>2</td>\n",
       "      <td>2</td>\n",
       "      <td>3</td>\n",
       "      <td>1</td>\n",
       "      <td>1</td>\n",
       "      <td>56</td>\n",
       "      <td>2</td>\n",
       "      <td>20</td>\n",
       "      <td>2022-11-22 18:55:19.239479</td>\n",
       "      <td>2022-11-22 18:55:19.536387</td>\n",
       "    </tr>\n",
       "    <tr>\n",
       "      <th>1</th>\n",
       "      <td>2</td>\n",
       "      <td>1</td>\n",
       "      <td>1</td>\n",
       "      <td>2</td>\n",
       "      <td>1</td>\n",
       "      <td>2</td>\n",
       "      <td>1</td>\n",
       "      <td>1</td>\n",
       "      <td>1</td>\n",
       "      <td>1</td>\n",
       "      <td>12</td>\n",
       "      <td>105</td>\n",
       "      <td>2022-11-22 18:55:19.239479</td>\n",
       "      <td>2022-11-22 18:55:19.536387</td>\n",
       "    </tr>\n",
       "    <tr>\n",
       "      <th>2</th>\n",
       "      <td>3</td>\n",
       "      <td>1602</td>\n",
       "      <td>24</td>\n",
       "      <td>8</td>\n",
       "      <td>2</td>\n",
       "      <td>3</td>\n",
       "      <td>1</td>\n",
       "      <td>1</td>\n",
       "      <td>2</td>\n",
       "      <td>5</td>\n",
       "      <td>64</td>\n",
       "      <td>3</td>\n",
       "      <td>2022-11-22 18:55:19.239479</td>\n",
       "      <td>2022-11-22 18:55:19.536387</td>\n",
       "    </tr>\n",
       "    <tr>\n",
       "      <th>3</th>\n",
       "      <td>4</td>\n",
       "      <td>112</td>\n",
       "      <td>2</td>\n",
       "      <td>3</td>\n",
       "      <td>3</td>\n",
       "      <td>5</td>\n",
       "      <td>2</td>\n",
       "      <td>2</td>\n",
       "      <td>1</td>\n",
       "      <td>69</td>\n",
       "      <td>134</td>\n",
       "      <td>9</td>\n",
       "      <td>2022-11-22 18:55:19.239479</td>\n",
       "      <td>2022-11-22 18:55:19.536387</td>\n",
       "    </tr>\n",
       "    <tr>\n",
       "      <th>4</th>\n",
       "      <td>5</td>\n",
       "      <td>982</td>\n",
       "      <td>2</td>\n",
       "      <td>3</td>\n",
       "      <td>3</td>\n",
       "      <td>5</td>\n",
       "      <td>2</td>\n",
       "      <td>2</td>\n",
       "      <td>1</td>\n",
       "      <td>676</td>\n",
       "      <td>286</td>\n",
       "      <td>17</td>\n",
       "      <td>2022-11-22 18:55:19.239479</td>\n",
       "      <td>2022-11-22 18:55:19.536387</td>\n",
       "    </tr>\n",
       "  </tbody>\n",
       "</table>\n",
       "</div>"
      ],
      "text/plain": [
       "   user_id  user_shops  user_profile  user_group  user_gender  user_age  \\\n",
       "0        1           3             1           6            2         2   \n",
       "1        2           1             1           2            1         2   \n",
       "2        3        1602            24           8            2         3   \n",
       "3        4         112             2           3            3         5   \n",
       "4        5         982             2           3            3         5   \n",
       "\n",
       "   user_consumption_2  user_is_occupied  user_geography  user_intentions  \\\n",
       "0                   3                 1               1               56   \n",
       "1                   1                 1               1                1   \n",
       "2                   1                 1               2                5   \n",
       "3                   2                 2               1               69   \n",
       "4                   2                 2               1              676   \n",
       "\n",
       "   user_brands  user_categories                   datetime  \\\n",
       "0            2               20 2022-11-22 18:55:19.239479   \n",
       "1           12              105 2022-11-22 18:55:19.239479   \n",
       "2           64                3 2022-11-22 18:55:19.239479   \n",
       "3          134                9 2022-11-22 18:55:19.239479   \n",
       "4          286               17 2022-11-22 18:55:19.239479   \n",
       "\n",
       "                     created  \n",
       "0 2022-11-22 18:55:19.536387  \n",
       "1 2022-11-22 18:55:19.536387  \n",
       "2 2022-11-22 18:55:19.536387  \n",
       "3 2022-11-22 18:55:19.536387  \n",
       "4 2022-11-22 18:55:19.536387  "
      ]
     },
     "execution_count": 30,
     "metadata": {},
     "output_type": "execute_result"
    }
   ],
   "source": [
    "user_features.head()"
   ]
  },
  {
   "cell_type": "code",
   "execution_count": 31,
   "id": "2981b3ed-6156-49f0-aa14-326a3853a58a",
   "metadata": {},
   "outputs": [],
   "source": [
    "user_features.to_parquet(os.path.join(BASE_DIR, 'feature_repo/data', 'user_features.parquet'))"
   ]
  },
  {
   "cell_type": "code",
   "execution_count": 32,
   "id": "0a33a668-8e2a-4546-8f54-0060d405ba91",
   "metadata": {},
   "outputs": [],
   "source": [
    "item_features = unique_rows_by_features(train, Tags.ITEM, Tags.ITEM_ID).compute().reset_index(drop=True)"
   ]
  },
  {
   "cell_type": "code",
   "execution_count": 33,
   "id": "97189581-473c-4928-8be7-ec31b86d69ee",
   "metadata": {},
   "outputs": [
    {
     "data": {
      "text/plain": [
       "(3168666, 4)"
      ]
     },
     "execution_count": 33,
     "metadata": {},
     "output_type": "execute_result"
    }
   ],
   "source": [
    "item_features.shape"
   ]
  },
  {
   "cell_type": "code",
   "execution_count": 34,
   "id": "68a694d6-926f-4b0f-8edc-8cc7ac85ade7",
   "metadata": {},
   "outputs": [],
   "source": [
    "item_features[\"datetime\"] = datetime.now()\n",
    "item_features[\"datetime\"] = item_features[\"datetime\"].astype(\"datetime64[ns]\")\n",
    "item_features[\"created\"] = datetime.now()\n",
    "item_features[\"created\"] = item_features[\"created\"].astype(\"datetime64[ns]\")"
   ]
  },
  {
   "cell_type": "code",
   "execution_count": 35,
   "id": "6c03fa22-b112-4243-bbe1-1cd7260cb85b",
   "metadata": {},
   "outputs": [
    {
     "data": {
      "text/html": [
       "<div>\n",
       "<style scoped>\n",
       "    .dataframe tbody tr th:only-of-type {\n",
       "        vertical-align: middle;\n",
       "    }\n",
       "\n",
       "    .dataframe tbody tr th {\n",
       "        vertical-align: top;\n",
       "    }\n",
       "\n",
       "    .dataframe thead th {\n",
       "        text-align: right;\n",
       "    }\n",
       "</style>\n",
       "<table border=\"1\" class=\"dataframe\">\n",
       "  <thead>\n",
       "    <tr style=\"text-align: right;\">\n",
       "      <th></th>\n",
       "      <th>item_id</th>\n",
       "      <th>item_category</th>\n",
       "      <th>item_shop</th>\n",
       "      <th>item_brand</th>\n",
       "      <th>datetime</th>\n",
       "      <th>created</th>\n",
       "    </tr>\n",
       "  </thead>\n",
       "  <tbody>\n",
       "    <tr>\n",
       "      <th>0</th>\n",
       "      <td>1</td>\n",
       "      <td>446</td>\n",
       "      <td>435</td>\n",
       "      <td>466</td>\n",
       "      <td>2022-11-22 18:55:37.551002</td>\n",
       "      <td>2022-11-22 18:55:37.554488</td>\n",
       "    </tr>\n",
       "    <tr>\n",
       "      <th>1</th>\n",
       "      <td>2</td>\n",
       "      <td>193</td>\n",
       "      <td>1202</td>\n",
       "      <td>124</td>\n",
       "      <td>2022-11-22 18:55:37.551002</td>\n",
       "      <td>2022-11-22 18:55:37.554488</td>\n",
       "    </tr>\n",
       "    <tr>\n",
       "      <th>2</th>\n",
       "      <td>3</td>\n",
       "      <td>1722</td>\n",
       "      <td>528</td>\n",
       "      <td>796</td>\n",
       "      <td>2022-11-22 18:55:37.551002</td>\n",
       "      <td>2022-11-22 18:55:37.554488</td>\n",
       "    </tr>\n",
       "    <tr>\n",
       "      <th>3</th>\n",
       "      <td>4</td>\n",
       "      <td>227</td>\n",
       "      <td>2641</td>\n",
       "      <td>2712</td>\n",
       "      <td>2022-11-22 18:55:37.551002</td>\n",
       "      <td>2022-11-22 18:55:37.554488</td>\n",
       "    </tr>\n",
       "    <tr>\n",
       "      <th>4</th>\n",
       "      <td>5</td>\n",
       "      <td>618</td>\n",
       "      <td>1762</td>\n",
       "      <td>2692</td>\n",
       "      <td>2022-11-22 18:55:37.551002</td>\n",
       "      <td>2022-11-22 18:55:37.554488</td>\n",
       "    </tr>\n",
       "  </tbody>\n",
       "</table>\n",
       "</div>"
      ],
      "text/plain": [
       "   item_id  item_category  item_shop  item_brand                   datetime  \\\n",
       "0        1            446        435         466 2022-11-22 18:55:37.551002   \n",
       "1        2            193       1202         124 2022-11-22 18:55:37.551002   \n",
       "2        3           1722        528         796 2022-11-22 18:55:37.551002   \n",
       "3        4            227       2641        2712 2022-11-22 18:55:37.551002   \n",
       "4        5            618       1762        2692 2022-11-22 18:55:37.551002   \n",
       "\n",
       "                     created  \n",
       "0 2022-11-22 18:55:37.554488  \n",
       "1 2022-11-22 18:55:37.554488  \n",
       "2 2022-11-22 18:55:37.554488  \n",
       "3 2022-11-22 18:55:37.554488  \n",
       "4 2022-11-22 18:55:37.554488  "
      ]
     },
     "execution_count": 35,
     "metadata": {},
     "output_type": "execute_result"
    }
   ],
   "source": [
    "item_features.head()"
   ]
  },
  {
   "cell_type": "code",
   "execution_count": 36,
   "id": "c312884b-a1f8-4e08-8068-696e06a9bf46",
   "metadata": {},
   "outputs": [],
   "source": [
    "# save to disk\n",
    "item_features.to_parquet(os.path.join(BASE_DIR, 'feature_repo/data', 'item_features.parquet'))"
   ]
  },
  {
   "cell_type": "markdown",
   "id": "ff30ceab-b264-4509-9c5b-5a10425e143b",
   "metadata": {},
   "source": [
    "### Ekstrakcja i zapis reprezentacji wektorowej produktów"
   ]
  },
  {
   "cell_type": "code",
   "execution_count": 37,
   "id": "00f1fe65-882e-4962-bb16-19a130fda215",
   "metadata": {},
   "outputs": [],
   "source": [
    "item_embs = model.item_embeddings(Dataset(item_features, schema=schema), batch_size=1024)\n",
    "item_embs_df = item_embs.compute(scheduler=\"synchronous\")"
   ]
  },
  {
   "cell_type": "code",
   "execution_count": 38,
   "id": "cf8b82ea-6cce-4dab-ad17-114b5e7eabd4",
   "metadata": {},
   "outputs": [],
   "source": [
    "# select only item_id together with embedding columns \n",
    "item_embeddings = item_embs_df.drop(columns=['item_category', 'item_shop', 'item_brand'])"
   ]
  },
  {
   "cell_type": "code",
   "execution_count": 39,
   "id": "e02f0957-6665-400a-80c0-60b307466caf",
   "metadata": {},
   "outputs": [
    {
     "data": {
      "text/html": [
       "<div>\n",
       "<style scoped>\n",
       "    .dataframe tbody tr th:only-of-type {\n",
       "        vertical-align: middle;\n",
       "    }\n",
       "\n",
       "    .dataframe tbody tr th {\n",
       "        vertical-align: top;\n",
       "    }\n",
       "\n",
       "    .dataframe thead th {\n",
       "        text-align: right;\n",
       "    }\n",
       "</style>\n",
       "<table border=\"1\" class=\"dataframe\">\n",
       "  <thead>\n",
       "    <tr style=\"text-align: right;\">\n",
       "      <th></th>\n",
       "      <th>item_id</th>\n",
       "      <th>0</th>\n",
       "      <th>1</th>\n",
       "      <th>2</th>\n",
       "      <th>3</th>\n",
       "      <th>4</th>\n",
       "      <th>5</th>\n",
       "      <th>6</th>\n",
       "      <th>7</th>\n",
       "      <th>8</th>\n",
       "      <th>...</th>\n",
       "      <th>54</th>\n",
       "      <th>55</th>\n",
       "      <th>56</th>\n",
       "      <th>57</th>\n",
       "      <th>58</th>\n",
       "      <th>59</th>\n",
       "      <th>60</th>\n",
       "      <th>61</th>\n",
       "      <th>62</th>\n",
       "      <th>63</th>\n",
       "    </tr>\n",
       "  </thead>\n",
       "  <tbody>\n",
       "    <tr>\n",
       "      <th>0</th>\n",
       "      <td>1</td>\n",
       "      <td>-0.020003</td>\n",
       "      <td>-0.075518</td>\n",
       "      <td>-0.087866</td>\n",
       "      <td>0.151562</td>\n",
       "      <td>-0.110037</td>\n",
       "      <td>0.495973</td>\n",
       "      <td>0.079019</td>\n",
       "      <td>-0.025561</td>\n",
       "      <td>0.254261</td>\n",
       "      <td>...</td>\n",
       "      <td>-0.140148</td>\n",
       "      <td>-0.005431</td>\n",
       "      <td>0.007796</td>\n",
       "      <td>0.039577</td>\n",
       "      <td>0.253102</td>\n",
       "      <td>-0.441789</td>\n",
       "      <td>-0.221366</td>\n",
       "      <td>0.143352</td>\n",
       "      <td>-0.163019</td>\n",
       "      <td>0.468177</td>\n",
       "    </tr>\n",
       "    <tr>\n",
       "      <th>1</th>\n",
       "      <td>2</td>\n",
       "      <td>0.153656</td>\n",
       "      <td>-0.047635</td>\n",
       "      <td>0.195094</td>\n",
       "      <td>-0.237609</td>\n",
       "      <td>-0.254570</td>\n",
       "      <td>-0.554159</td>\n",
       "      <td>0.135774</td>\n",
       "      <td>0.182235</td>\n",
       "      <td>0.155593</td>\n",
       "      <td>...</td>\n",
       "      <td>0.360716</td>\n",
       "      <td>-0.165115</td>\n",
       "      <td>0.313495</td>\n",
       "      <td>-0.251373</td>\n",
       "      <td>-0.316715</td>\n",
       "      <td>0.149595</td>\n",
       "      <td>0.530286</td>\n",
       "      <td>-0.156772</td>\n",
       "      <td>0.133417</td>\n",
       "      <td>-0.466848</td>\n",
       "    </tr>\n",
       "    <tr>\n",
       "      <th>2</th>\n",
       "      <td>3</td>\n",
       "      <td>0.041907</td>\n",
       "      <td>0.208076</td>\n",
       "      <td>-0.007657</td>\n",
       "      <td>0.036008</td>\n",
       "      <td>-0.052415</td>\n",
       "      <td>0.113364</td>\n",
       "      <td>0.145278</td>\n",
       "      <td>-0.073680</td>\n",
       "      <td>0.200540</td>\n",
       "      <td>...</td>\n",
       "      <td>0.025312</td>\n",
       "      <td>-0.061955</td>\n",
       "      <td>-0.034420</td>\n",
       "      <td>-0.077453</td>\n",
       "      <td>0.177896</td>\n",
       "      <td>-0.243942</td>\n",
       "      <td>-0.116789</td>\n",
       "      <td>0.049720</td>\n",
       "      <td>-0.222127</td>\n",
       "      <td>0.227698</td>\n",
       "    </tr>\n",
       "    <tr>\n",
       "      <th>3</th>\n",
       "      <td>4</td>\n",
       "      <td>-0.065537</td>\n",
       "      <td>0.010116</td>\n",
       "      <td>-0.010827</td>\n",
       "      <td>-0.091568</td>\n",
       "      <td>-0.143680</td>\n",
       "      <td>-0.358728</td>\n",
       "      <td>0.037551</td>\n",
       "      <td>0.113641</td>\n",
       "      <td>-0.010710</td>\n",
       "      <td>...</td>\n",
       "      <td>0.351133</td>\n",
       "      <td>-0.181788</td>\n",
       "      <td>0.167121</td>\n",
       "      <td>-0.298541</td>\n",
       "      <td>-0.103837</td>\n",
       "      <td>0.075279</td>\n",
       "      <td>0.450471</td>\n",
       "      <td>-0.030042</td>\n",
       "      <td>0.103019</td>\n",
       "      <td>-0.351265</td>\n",
       "    </tr>\n",
       "    <tr>\n",
       "      <th>4</th>\n",
       "      <td>5</td>\n",
       "      <td>-0.111307</td>\n",
       "      <td>0.130277</td>\n",
       "      <td>-0.084017</td>\n",
       "      <td>0.154907</td>\n",
       "      <td>0.043098</td>\n",
       "      <td>0.265775</td>\n",
       "      <td>0.039192</td>\n",
       "      <td>-0.113902</td>\n",
       "      <td>0.134627</td>\n",
       "      <td>...</td>\n",
       "      <td>-0.171411</td>\n",
       "      <td>0.020445</td>\n",
       "      <td>-0.022748</td>\n",
       "      <td>0.037004</td>\n",
       "      <td>0.150457</td>\n",
       "      <td>-0.411173</td>\n",
       "      <td>-0.179397</td>\n",
       "      <td>0.193402</td>\n",
       "      <td>-0.319110</td>\n",
       "      <td>0.373385</td>\n",
       "    </tr>\n",
       "  </tbody>\n",
       "</table>\n",
       "<p>5 rows × 65 columns</p>\n",
       "</div>"
      ],
      "text/plain": [
       "   item_id         0         1         2         3         4         5  \\\n",
       "0        1 -0.020003 -0.075518 -0.087866  0.151562 -0.110037  0.495973   \n",
       "1        2  0.153656 -0.047635  0.195094 -0.237609 -0.254570 -0.554159   \n",
       "2        3  0.041907  0.208076 -0.007657  0.036008 -0.052415  0.113364   \n",
       "3        4 -0.065537  0.010116 -0.010827 -0.091568 -0.143680 -0.358728   \n",
       "4        5 -0.111307  0.130277 -0.084017  0.154907  0.043098  0.265775   \n",
       "\n",
       "          6         7         8  ...        54        55        56        57  \\\n",
       "0  0.079019 -0.025561  0.254261  ... -0.140148 -0.005431  0.007796  0.039577   \n",
       "1  0.135774  0.182235  0.155593  ...  0.360716 -0.165115  0.313495 -0.251373   \n",
       "2  0.145278 -0.073680  0.200540  ...  0.025312 -0.061955 -0.034420 -0.077453   \n",
       "3  0.037551  0.113641 -0.010710  ...  0.351133 -0.181788  0.167121 -0.298541   \n",
       "4  0.039192 -0.113902  0.134627  ... -0.171411  0.020445 -0.022748  0.037004   \n",
       "\n",
       "         58        59        60        61        62        63  \n",
       "0  0.253102 -0.441789 -0.221366  0.143352 -0.163019  0.468177  \n",
       "1 -0.316715  0.149595  0.530286 -0.156772  0.133417 -0.466848  \n",
       "2  0.177896 -0.243942 -0.116789  0.049720 -0.222127  0.227698  \n",
       "3 -0.103837  0.075279  0.450471 -0.030042  0.103019 -0.351265  \n",
       "4  0.150457 -0.411173 -0.179397  0.193402 -0.319110  0.373385  \n",
       "\n",
       "[5 rows x 65 columns]"
      ]
     },
     "execution_count": 39,
     "metadata": {},
     "output_type": "execute_result"
    }
   ],
   "source": [
    "item_embeddings.head()"
   ]
  },
  {
   "cell_type": "code",
   "execution_count": 40,
   "id": "66d7271e-0ea6-4568-ac5a-04089735f542",
   "metadata": {},
   "outputs": [],
   "source": [
    "# save to disk\n",
    "item_embeddings.to_parquet(os.path.join(BASE_DIR,'item_embeddings.parquet'))"
   ]
  },
  {
   "cell_type": "markdown",
   "id": "dadae279-913c-487b-ad55-4b4d6c110dc1",
   "metadata": {},
   "source": [
    "### Programowy opis atrybutów użytkownika i produktów na potrzeby repozytorium atrybutów"
   ]
  },
  {
   "cell_type": "code",
   "execution_count": 41,
   "id": "4ee27d67-e35a-42c5-8025-ed73f35c8e13",
   "metadata": {},
   "outputs": [],
   "source": [
    "file = open(os.path.join(BASE_DIR, 'feature_repo/','user_features.py'), \"w\")\n",
    "file.write(\n",
    "'''\n",
    "from google.protobuf.duration_pb2 import Duration\n",
    "import datetime \n",
    "from feast import Entity, Feature, FeatureView, ValueType\n",
    "from feast.infra.offline_stores.file_source import FileSource\n",
    "\n",
    "user_features = FileSource(\n",
    "    path=\"{}\",\n",
    "    event_timestamp_column=\"datetime\",\n",
    "    created_timestamp_column=\"created\",\n",
    ")\n",
    "\n",
    "user = Entity(name=\"user_id\", value_type=ValueType.INT32, description=\"user id\",)\n",
    "\n",
    "user_features_view = FeatureView(\n",
    "    name=\"user_features\",\n",
    "    entities=[\"user_id\"],\n",
    "    ttl=Duration(seconds=86400 * 7),\n",
    "    features=[\n",
    "        Feature(name=\"user_shops\", dtype=ValueType.INT32),\n",
    "        Feature(name=\"user_profile\", dtype=ValueType.INT32),\n",
    "        Feature(name=\"user_group\", dtype=ValueType.INT32),\n",
    "        Feature(name=\"user_gender\", dtype=ValueType.INT32),\n",
    "        Feature(name=\"user_age\", dtype=ValueType.INT32),\n",
    "        Feature(name=\"user_consumption_2\", dtype=ValueType.INT32),\n",
    "        Feature(name=\"user_is_occupied\", dtype=ValueType.INT32),\n",
    "        Feature(name=\"user_geography\", dtype=ValueType.INT32),\n",
    "        Feature(name=\"user_intentions\", dtype=ValueType.INT32),\n",
    "        Feature(name=\"user_brands\", dtype=ValueType.INT32),\n",
    "        Feature(name=\"user_categories\", dtype=ValueType.INT32),\n",
    "    ],\n",
    "    online=True,\n",
    "    input=user_features,\n",
    "    tags=dict(),\n",
    ")\n",
    "'''.format(os.path.join(BASE_DIR, 'feature_repo/data/','user_features.parquet'))\n",
    ")\n",
    "file.close()"
   ]
  },
  {
   "cell_type": "code",
   "execution_count": 42,
   "id": "48a5927c-840d-410c-8f5b-bebce4f79640",
   "metadata": {},
   "outputs": [],
   "source": [
    "with open(os.path.join(BASE_DIR, 'feature_repo/','item_features.py'), \"w\") as f:\n",
    "    f.write(\n",
    "'''\n",
    "from google.protobuf.duration_pb2 import Duration\n",
    "import datetime \n",
    "from feast import Entity, Feature, FeatureView, ValueType\n",
    "from feast.infra.offline_stores.file_source import FileSource\n",
    "\n",
    "item_features = FileSource(\n",
    "    path=\"{}\",\n",
    "    event_timestamp_column=\"datetime\",\n",
    "    created_timestamp_column=\"created\",\n",
    ")\n",
    "\n",
    "item = Entity(name=\"item_id\", value_type=ValueType.INT32, description=\"item id\",)\n",
    "\n",
    "item_features_view = FeatureView(\n",
    "    name=\"item_features\",\n",
    "    entities=[\"item_id\"],\n",
    "    ttl=Duration(seconds=86400 * 7),\n",
    "    features=[\n",
    "        Feature(name=\"item_category\", dtype=ValueType.INT32),\n",
    "        Feature(name=\"item_shop\", dtype=ValueType.INT32),\n",
    "        Feature(name=\"item_brand\", dtype=ValueType.INT32),\n",
    "    ],\n",
    "    online=True,\n",
    "    input=item_features,\n",
    "    tags=dict(),\n",
    ")\n",
    "'''.format(os.path.join(BASE_DIR, 'feature_repo/data/','item_features.parquet'))\n",
    "    )\n",
    "file.close() "
   ]
  },
  {
   "cell_type": "markdown",
   "id": "660333b2-4f99-49c7-8cd3-f0aad5dbd66f",
   "metadata": {},
   "source": [
    "Struktura repozytorium atrybutów"
   ]
  },
  {
   "cell_type": "code",
   "execution_count": 43,
   "id": "57133c1e-18d9-4ccb-9704-cdebd271985e",
   "metadata": {},
   "outputs": [
    {
     "name": "stdout",
     "output_type": "stream",
     "text": [
      "Looking in indexes: https://pypi.org/simple, https://pypi.ngc.nvidia.com\n",
      "Collecting seedir\n",
      "  Downloading seedir-0.4.0-py3-none-any.whl (111 kB)\n",
      "\u001B[2K     \u001B[90m━━━━━━━━━━━━━━━━━━━━━━━━━━━━━━━━━━━━━━━\u001B[0m \u001B[32m111.3/111.3 KB\u001B[0m \u001B[31m1.5 MB/s\u001B[0m eta \u001B[36m0:00:00\u001B[0ma \u001B[36m0:00:01\u001B[0m\n",
      "\u001B[?25hCollecting natsort\n",
      "  Downloading natsort-8.2.0-py3-none-any.whl (37 kB)\n",
      "Installing collected packages: natsort, seedir\n",
      "Successfully installed natsort-8.2.0 seedir-0.4.0\n",
      "\u001B[33mWARNING: Running pip as the 'root' user can result in broken permissions and conflicting behaviour with the system package manager. It is recommended to use a virtual environment instead: https://pip.pypa.io/warnings/venv\u001B[0m\u001B[33m\n",
      "\u001B[0m\u001B[33mWARNING: You are using pip version 22.0.4; however, version 22.3.1 is available.\n",
      "You should consider upgrading via the '/usr/bin/python3 -m pip install --upgrade pip' command.\u001B[0m\u001B[33m\n",
      "\u001B[0m"
     ]
    }
   ],
   "source": [
    "# install seedir\n",
    "# !pip install seedir"
   ]
  },
  {
   "cell_type": "code",
   "execution_count": 44,
   "id": "986d53ea-c946-4046-a390-6d3b8801d280",
   "metadata": {},
   "outputs": [
    {
     "name": "stdout",
     "output_type": "stream",
     "text": [
      "feature_repo/\n",
      "├─__init__.py\n",
      "├─data/\n",
      "│ ├─item_features.parquet\n",
      "│ └─user_features.parquet\n",
      "├─feature_store.yaml\n",
      "├─item_features.py\n",
      "└─user_features.py\n"
     ]
    }
   ],
   "source": [
    "import seedir as sd\n",
    "feature_repo_path = os.path.join(BASE_DIR, 'feature_repo')\n",
    "sd.seedir(feature_repo_path, style='lines', itemlimit=10, depthlimit=3, exclude_folders='.ipynb_checkpoints', sort=True)"
   ]
  },
  {
   "cell_type": "markdown",
   "id": "80678ea1-a7fb-4016-9e6f-c905497f4142",
   "metadata": {},
   "source": [
    "### Następne kroki\n",
    "\n",
    "Zostały wytrenowane i wyeksportowane modele etpaów Retrieval i Scoring, mamy utworzone repozytorium atrybutów produktów i użytkownika.\n",
    "Następnie modele zostaną osadzone w [Triton Inference Server (TIS)](https://github.com/triton-inference-server/server) w celu uruchomienia (inferencji).\n"
   ]
  }
 ],
 "metadata": {
  "kernelspec": {
   "display_name": "Python 3 (ipykernel)",
   "language": "python",
   "name": "python3"
  },
  "language_info": {
   "codemirror_mode": {
    "name": "ipython",
    "version": 3
   },
   "file_extension": ".py",
   "mimetype": "text/x-python",
   "name": "python",
   "nbconvert_exporter": "python",
   "pygments_lexer": "ipython3",
   "version": "3.8.10"
  },
  "merlin": {
   "containers": [
    "nvcr.io/nvidia/merlin/merlin-tensorflow-inference:latest"
   ]
  }
 },
 "nbformat": 4,
 "nbformat_minor": 5
}
